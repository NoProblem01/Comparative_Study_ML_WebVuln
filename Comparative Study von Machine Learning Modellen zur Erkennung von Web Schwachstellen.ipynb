{
 "cells": [
  {
   "cell_type": "markdown",
   "id": "d41cdae0",
   "metadata": {},
   "source": [
    "# Code zu der Bachelorarbeit:\n",
    "# \"Comparitve Study von Machine Learning Modellen zur Erkennung von Web Schwachstellen\"\n",
    "## von Nils Pudenz, 2735230"
   ]
  },
  {
   "cell_type": "markdown",
   "id": "21512b38",
   "metadata": {},
   "source": [
    "## Imports"
   ]
  },
  {
   "cell_type": "code",
   "execution_count": 31,
   "id": "6dac7f00",
   "metadata": {},
   "outputs": [],
   "source": [
    "\n",
    "#%pip install kaggle scikit-learn xgboost catboost tabpfn pandas numpy matplotlib seaborn -q\n",
    "#%pip install --quiet scikit-learn xgboost catboost tabpfn chardet\n",
    "#%pip install -U scikit-learn\n",
    "## in deiner (Conda/venv) Umgebung\n",
    "#%pip install --upgrade \"torch==2.*\" --index-url https://download.pytorch.org/whl/cu121\n",
    "#%pip install --upgrade xgboost catboost scikit-learn pandas scipy tabpfn\n",
    "##wenn es komplikationen mit torch gibt, deiinstallieren und neu installieren\n",
    "#%pip uninstall torch\n",
    "#%pip install torch --index-url https://download.pytorch.org/whl/cu121 --upgrade\n",
    "#%pip install openpyxl\n",
    "#%pip install XlsxWriter\n",
    "#%pip install openpyxl\n"
   ]
  },
  {
   "cell_type": "code",
   "execution_count": 32,
   "id": "ffe89a0b",
   "metadata": {},
   "outputs": [],
   "source": [
    "import os, math, time\n",
    "import numpy as np\n",
    "import pandas as pd\n",
    "import torch\n",
    "\n",
    "import zipfile\n",
    "import random\n",
    "from pathlib import Path\n",
    "import matplotlib.pyplot as plt\n",
    "import joblib\n",
    "import sys\n",
    "\n",
    "from sklearn.model_selection import train_test_split, StratifiedShuffleSplit\n",
    "from sklearn.feature_extraction.text import TfidfVectorizer\n",
    "from sklearn.decomposition import TruncatedSVD\n",
    "from sklearn.metrics import precision_score, recall_score, f1_score, confusion_matrix\n",
    "\n",
    "from xgboost import XGBClassifier\n",
    "from catboost import CatBoostClassifier, Pool\n",
    "from sklearn.ensemble import RandomForestClassifier\n",
    "from sklearn.neural_network import MLPClassifier\n",
    "from tabpfn import TabPFNClassifier\n",
    "\n",
    "from sklearn.preprocessing import StandardScaler\n",
    "\n",
    "from sklearn.pipeline import make_pipeline\n",
    "\n",
    "\n",
    "from sklearn.model_selection import RandomizedSearchCV\n",
    "from sklearn.utils import resample\n",
    "from kaggle.api.kaggle_api_extended import KaggleApi\n",
    "\n",
    "from sklearn.metrics import make_scorer\n",
    "from sklearn.model_selection import StratifiedKFold\n",
    "from sklearn.pipeline import Pipeline\n",
    "from sklearn.metrics import precision_recall_fscore_support\n",
    "\n",
    "from sklearn.experimental import enable_halving_search_cv  # noqa\n",
    "from sklearn.model_selection import HalvingRandomSearchCV\n"
   ]
  },
  {
   "cell_type": "markdown",
   "id": "915add7c",
   "metadata": {},
   "source": [
    "## Check ob GPU verwendet werden kann"
   ]
  },
  {
   "cell_type": "code",
   "execution_count": 33,
   "id": "a5103769",
   "metadata": {},
   "outputs": [
    {
     "name": "stdout",
     "output_type": "stream",
     "text": [
      "3.11.9 (tags/v3.11.9:de54cf5, Apr  2 2024, 10:12:12) [MSC v.1938 64 bit (AMD64)]\n",
      "CUDA verfügbar: True\n"
     ]
    }
   ],
   "source": [
    "print(sys.version)\n",
    "print(\"CUDA verfügbar:\", torch.cuda.is_available())"
   ]
  },
  {
   "cell_type": "code",
   "execution_count": 34,
   "id": "f9b9e350",
   "metadata": {},
   "outputs": [
    {
     "name": "stdout",
     "output_type": "stream",
     "text": [
      "Python: c:\\Users\\nilsp\\Github_Desktop\\Comparative_Study_ML_WebVuln\\.venv\\Scripts\\python.exe\n",
      "Torch: 2.5.1+cu121 | CUDA build: 12.1\n",
      "CUDA available: True\n"
     ]
    }
   ],
   "source": [
    "print(\"Python:\", sys.executable)\n",
    "print(\"Torch:\", torch.__version__, \"| CUDA build:\", torch.version.cuda)\n",
    "print(\"CUDA available:\", torch.cuda.is_available())"
   ]
  },
  {
   "cell_type": "code",
   "execution_count": 35,
   "id": "d283a1f2",
   "metadata": {},
   "outputs": [],
   "source": [
    "def predict_in_batches(model, X, batch_size=512): #um Überlastung zu vermeiden, evtl. 256 oder 128\n",
    "    \"\"\"Make predictions on input data in batches.\"\"\"\n",
    "    preds = []\n",
    "    for i in range(0, X.shape[0], batch_size):\n",
    "        batch = X[i:i + batch_size]\n",
    "        preds.append(model.predict(batch))\n",
    "    return np.concatenate(preds)\n"
   ]
  },
  {
   "cell_type": "markdown",
   "id": "0350a6b7",
   "metadata": {},
   "source": [
    "## Dowload Kaggle Datasets\n",
    "Requires Kaggle API credentials ('~/.kaggle/kaggle.json') für API-Token, um zugriff auf die Datenbanken über das Kaggle Konto zu bekommen"
   ]
  },
  {
   "cell_type": "code",
   "execution_count": 36,
   "id": "749404d5",
   "metadata": {},
   "outputs": [],
   "source": [
    "DATA_DIR = Path(\"data\")\n",
    "DATA_DIR.mkdir(exist_ok=True)"
   ]
  },
  {
   "cell_type": "code",
   "execution_count": 37,
   "id": "e33f5a5b",
   "metadata": {},
   "outputs": [
    {
     "data": {
      "text/plain": [
       "0"
      ]
     },
     "execution_count": 37,
     "metadata": {},
     "output_type": "execute_result"
    }
   ],
   "source": [
    "#Dowload der Datasets von Kaggle, Output =1 erfoglgreich, Output = 0 fehlerhaft\n",
    "os.system(\"kaggle datasets download -d syedsaqlainhussain/sql-injection-dataset -p data --unzip --quiet\")\n",
    "os.system(\"kaggle datasets download -d syedsaqlainhussain/cross-site-scripting-xss-dataset-for-deep-learning -p data --unzip --quiet\")\n",
    "#KAGGLE_DATASETS = { #gleich wie oben nur renaming auf sql & xss\n",
    "#    \"sql\": \"syedsaqlainhussain/sql-injection-dataset\",\n",
    "#    \"xss\": \"syedsaqlainhussain/cross-site-scripting-xss-dataset-for-deep-learning\"\n",
    "#}"
   ]
  },
  {
   "cell_type": "code",
   "execution_count": 38,
   "id": "4fe4a3f5",
   "metadata": {},
   "outputs": [
    {
     "name": "stdout",
     "output_type": "stream",
     "text": [
      "Dataset URL: https://www.kaggle.com/datasets/syedsaqlainhussain/sql-injection-dataset\n",
      "Downloaded syedsaqlainhussain/sql-injection-dataset\n",
      "Dataset URL: https://www.kaggle.com/datasets/syedsaqlainhussain/cross-site-scripting-xss-dataset-for-deep-learning\n",
      "Downloaded syedsaqlainhussain/cross-site-scripting-xss-dataset-for-deep-learning\n"
     ]
    }
   ],
   "source": [
    "def kaggle_download(dataset, path=\"data\", unzip=True):\n",
    "    api = KaggleApi()\n",
    "    api.authenticate() #nutzt ~/.kaggle/kaggle.json für Authentifizierung oder Environment-Variablen\n",
    "    api.dataset_download_files(dataset, path=path, unzip=unzip)\n",
    "    print(f\"Downloaded {dataset}\")\n",
    "\n",
    "kaggle_download(\"syedsaqlainhussain/sql-injection-dataset\")#, path=DATA_DIR, unzip=True)\n",
    "kaggle_download(\"syedsaqlainhussain/cross-site-scripting-xss-dataset-for-deep-learning\")#, path=DATA_DIR, unzip=True)\n",
    "    "
   ]
  },
  {
   "cell_type": "code",
   "execution_count": 39,
   "id": "51b9480a",
   "metadata": {},
   "outputs": [],
   "source": [
    "\n",
    "sql_df = pd.read_csv(\"data/SQLiV3.csv\", encoding=\"utf-8\", low_memory=False)\n",
    "xss_df = pd.read_csv(\"data/XSS_dataset.csv\", encoding=\"utf-8\", low_memory=False)"
   ]
  },
  {
   "cell_type": "code",
   "execution_count": 40,
   "id": "4d3a3440",
   "metadata": {},
   "outputs": [
    {
     "name": "stdout",
     "output_type": "stream",
     "text": [
      "['Sentence', 'Label', 'Unnamed: 2', 'Unnamed: 3']\n",
      "clean shape: (30873, 2)\n",
      "Label\n",
      "0                                                                         0.628891\n",
      "1                                                                         0.370162\n",
      " --                                                                       0.000359\n",
      "waitfor delay '0:0:__TIME__'--                                            0.000131\n",
      " DROP TABLE Suppliers                                                     0.000065\n",
      " desc users                                                               0.000033\n",
      "SELECT *                                                                  0.000033\n",
      " OR                                                                       0.000033\n",
      " if not  (  select system_user  )   <> 'sa' waitfor delay '0:0:2' --      0.000033\n",
      " drop table temp --                                                       0.000033\n",
      " grant resource to name                                                   0.000033\n",
      " /*Select all the columns of all the records in the Customers table:*/    0.000033\n",
      " EXEC SelectAllCustomers                                                  0.000033\n",
      "*/                                                                        0.000033\n",
      " CREATE VIEW [Products Above Average Price] AS                            0.000033\n",
      " CREATE OR REPLACE VIEW view_name AS                                      0.000033\n",
      " SELECT column_name ( s )                                                 0.000033\n",
      "Name: proportion, dtype: float64\n"
     ]
    }
   ],
   "source": [
    "# Spalten ansehen\n",
    "print(sql_df.columns.tolist())\n",
    "\n",
    "# Typische Index-/Hilfsspalten loswerden\n",
    "sql_df = sql_df.loc[:, ~sql_df.columns.str.contains(r\"^Unnamed|^index$\", case=False)]\n",
    "\n",
    "# Auf die Kernspalten reduzieren (falls etwas anderes drin ist)\n",
    "sql_df = sql_df[[\"Sentence\", \"Label\"]].copy()\n",
    "\n",
    "# Optional: Duplikate auf Satzebene entfernen (falls noch nicht passiert)\n",
    "sql_df = sql_df.drop_duplicates(subset=[\"Sentence\"]).reset_index(drop=True)\n",
    "\n",
    "print(\"clean shape:\", sql_df.shape)  # Erwartung: (30873, 2)\n",
    "print(sql_df[\"Label\"].value_counts(normalize=True))\n"
   ]
  },
  {
   "cell_type": "code",
   "execution_count": 41,
   "id": "36a79aee",
   "metadata": {},
   "outputs": [
    {
     "name": "stdout",
     "output_type": "stream",
     "text": [
      "SQL dataset shape: (30873, 2)\n"
     ]
    },
    {
     "data": {
      "text/html": [
       "<div>\n",
       "<style scoped>\n",
       "    .dataframe tbody tr th:only-of-type {\n",
       "        vertical-align: middle;\n",
       "    }\n",
       "\n",
       "    .dataframe tbody tr th {\n",
       "        vertical-align: top;\n",
       "    }\n",
       "\n",
       "    .dataframe thead th {\n",
       "        text-align: right;\n",
       "    }\n",
       "</style>\n",
       "<table border=\"1\" class=\"dataframe\">\n",
       "  <thead>\n",
       "    <tr style=\"text-align: right;\">\n",
       "      <th></th>\n",
       "      <th>Sentence</th>\n",
       "      <th>Label</th>\n",
       "    </tr>\n",
       "  </thead>\n",
       "  <tbody>\n",
       "    <tr>\n",
       "      <th>0</th>\n",
       "      <td>\" or pg_sleep  (  __TIME__  )  --</td>\n",
       "      <td>1</td>\n",
       "    </tr>\n",
       "    <tr>\n",
       "      <th>1</th>\n",
       "      <td>create user name identified by pass123 tempora...</td>\n",
       "      <td>NaN</td>\n",
       "    </tr>\n",
       "    <tr>\n",
       "      <th>2</th>\n",
       "      <td>AND 1  =  utl_inaddr.get_host_address   (    ...</td>\n",
       "      <td>1</td>\n",
       "    </tr>\n",
       "    <tr>\n",
       "      <th>3</th>\n",
       "      <td>select * from users where id  =  '1' or @ @1 ...</td>\n",
       "      <td>1</td>\n",
       "    </tr>\n",
       "    <tr>\n",
       "      <th>4</th>\n",
       "      <td>select * from users where id  =  1 or 1#\"  ( ...</td>\n",
       "      <td>1</td>\n",
       "    </tr>\n",
       "  </tbody>\n",
       "</table>\n",
       "</div>"
      ],
      "text/plain": [
       "                                            Sentence Label\n",
       "0                  \" or pg_sleep  (  __TIME__  )  --     1\n",
       "1  create user name identified by pass123 tempora...   NaN\n",
       "2   AND 1  =  utl_inaddr.get_host_address   (    ...     1\n",
       "3   select * from users where id  =  '1' or @ @1 ...     1\n",
       "4   select * from users where id  =  1 or 1#\"  ( ...     1"
      ]
     },
     "metadata": {},
     "output_type": "display_data"
    },
    {
     "data": {
      "text/html": [
       "<div>\n",
       "<style scoped>\n",
       "    .dataframe tbody tr th:only-of-type {\n",
       "        vertical-align: middle;\n",
       "    }\n",
       "\n",
       "    .dataframe tbody tr th {\n",
       "        vertical-align: top;\n",
       "    }\n",
       "\n",
       "    .dataframe thead th {\n",
       "        text-align: right;\n",
       "    }\n",
       "</style>\n",
       "<table border=\"1\" class=\"dataframe\">\n",
       "  <thead>\n",
       "    <tr style=\"text-align: right;\">\n",
       "      <th></th>\n",
       "      <th>Sentence</th>\n",
       "      <th>Label</th>\n",
       "    </tr>\n",
       "  </thead>\n",
       "  <tbody>\n",
       "    <tr>\n",
       "      <th>count</th>\n",
       "      <td>30872</td>\n",
       "      <td>30619</td>\n",
       "    </tr>\n",
       "    <tr>\n",
       "      <th>unique</th>\n",
       "      <td>30872</td>\n",
       "      <td>17</td>\n",
       "    </tr>\n",
       "    <tr>\n",
       "      <th>top</th>\n",
       "      <td>\" or pg_sleep  (  __TIME__  )  --</td>\n",
       "      <td>0</td>\n",
       "    </tr>\n",
       "    <tr>\n",
       "      <th>freq</th>\n",
       "      <td>1</td>\n",
       "      <td>19256</td>\n",
       "    </tr>\n",
       "  </tbody>\n",
       "</table>\n",
       "</div>"
      ],
      "text/plain": [
       "                                 Sentence  Label\n",
       "count                               30872  30619\n",
       "unique                              30872     17\n",
       "top     \" or pg_sleep  (  __TIME__  )  --      0\n",
       "freq                                    1  19256"
      ]
     },
     "metadata": {},
     "output_type": "display_data"
    },
    {
     "name": "stdout",
     "output_type": "stream",
     "text": [
      "<class 'pandas.core.frame.DataFrame'>\n",
      "RangeIndex: 30873 entries, 0 to 30872\n",
      "Data columns (total 2 columns):\n",
      " #   Column    Non-Null Count  Dtype \n",
      "---  ------    --------------  ----- \n",
      " 0   Sentence  30872 non-null  object\n",
      " 1   Label     30619 non-null  object\n",
      "dtypes: object(2)\n",
      "memory usage: 482.5+ KB\n"
     ]
    },
    {
     "data": {
      "text/plain": [
       "None"
      ]
     },
     "metadata": {},
     "output_type": "display_data"
    },
    {
     "name": "stdout",
     "output_type": "stream",
     "text": [
      "XSS dataset shape: (13686, 3)\n"
     ]
    },
    {
     "data": {
      "text/html": [
       "<div>\n",
       "<style scoped>\n",
       "    .dataframe tbody tr th:only-of-type {\n",
       "        vertical-align: middle;\n",
       "    }\n",
       "\n",
       "    .dataframe tbody tr th {\n",
       "        vertical-align: top;\n",
       "    }\n",
       "\n",
       "    .dataframe thead th {\n",
       "        text-align: right;\n",
       "    }\n",
       "</style>\n",
       "<table border=\"1\" class=\"dataframe\">\n",
       "  <thead>\n",
       "    <tr style=\"text-align: right;\">\n",
       "      <th></th>\n",
       "      <th>Unnamed: 0</th>\n",
       "      <th>Sentence</th>\n",
       "      <th>Label</th>\n",
       "    </tr>\n",
       "  </thead>\n",
       "  <tbody>\n",
       "    <tr>\n",
       "      <th>0</th>\n",
       "      <td>0</td>\n",
       "      <td>&lt;li&gt;&lt;a href=\"/wiki/File:Socrates.png\" class=\"i...</td>\n",
       "      <td>0</td>\n",
       "    </tr>\n",
       "    <tr>\n",
       "      <th>1</th>\n",
       "      <td>1</td>\n",
       "      <td>&lt;tt onmouseover=\"alert(1)\"&gt;test&lt;/tt&gt;</td>\n",
       "      <td>1</td>\n",
       "    </tr>\n",
       "    <tr>\n",
       "      <th>2</th>\n",
       "      <td>2</td>\n",
       "      <td>\\t &lt;/span&gt; &lt;span class=\"reference-text\"&gt;Steeri...</td>\n",
       "      <td>0</td>\n",
       "    </tr>\n",
       "    <tr>\n",
       "      <th>3</th>\n",
       "      <td>3</td>\n",
       "      <td>\\t &lt;/span&gt; &lt;span class=\"reference-text\"&gt;&lt;cite ...</td>\n",
       "      <td>0</td>\n",
       "    </tr>\n",
       "    <tr>\n",
       "      <th>4</th>\n",
       "      <td>4</td>\n",
       "      <td>\\t &lt;/span&gt;. &lt;a href=\"/wiki/Digital_object_iden...</td>\n",
       "      <td>0</td>\n",
       "    </tr>\n",
       "  </tbody>\n",
       "</table>\n",
       "</div>"
      ],
      "text/plain": [
       "   Unnamed: 0                                           Sentence  Label\n",
       "0           0  <li><a href=\"/wiki/File:Socrates.png\" class=\"i...      0\n",
       "1           1               <tt onmouseover=\"alert(1)\">test</tt>      1\n",
       "2           2  \\t </span> <span class=\"reference-text\">Steeri...      0\n",
       "3           3  \\t </span> <span class=\"reference-text\"><cite ...      0\n",
       "4           4  \\t </span>. <a href=\"/wiki/Digital_object_iden...      0"
      ]
     },
     "metadata": {},
     "output_type": "display_data"
    },
    {
     "data": {
      "text/html": [
       "<div>\n",
       "<style scoped>\n",
       "    .dataframe tbody tr th:only-of-type {\n",
       "        vertical-align: middle;\n",
       "    }\n",
       "\n",
       "    .dataframe tbody tr th {\n",
       "        vertical-align: top;\n",
       "    }\n",
       "\n",
       "    .dataframe thead th {\n",
       "        text-align: right;\n",
       "    }\n",
       "</style>\n",
       "<table border=\"1\" class=\"dataframe\">\n",
       "  <thead>\n",
       "    <tr style=\"text-align: right;\">\n",
       "      <th></th>\n",
       "      <th>Unnamed: 0</th>\n",
       "      <th>Label</th>\n",
       "    </tr>\n",
       "  </thead>\n",
       "  <tbody>\n",
       "    <tr>\n",
       "      <th>count</th>\n",
       "      <td>13686.000000</td>\n",
       "      <td>13686.000000</td>\n",
       "    </tr>\n",
       "    <tr>\n",
       "      <th>mean</th>\n",
       "      <td>6842.500000</td>\n",
       "      <td>0.538726</td>\n",
       "    </tr>\n",
       "    <tr>\n",
       "      <th>std</th>\n",
       "      <td>3950.952227</td>\n",
       "      <td>0.498516</td>\n",
       "    </tr>\n",
       "    <tr>\n",
       "      <th>min</th>\n",
       "      <td>0.000000</td>\n",
       "      <td>0.000000</td>\n",
       "    </tr>\n",
       "    <tr>\n",
       "      <th>25%</th>\n",
       "      <td>3421.250000</td>\n",
       "      <td>0.000000</td>\n",
       "    </tr>\n",
       "    <tr>\n",
       "      <th>50%</th>\n",
       "      <td>6842.500000</td>\n",
       "      <td>1.000000</td>\n",
       "    </tr>\n",
       "    <tr>\n",
       "      <th>75%</th>\n",
       "      <td>10263.750000</td>\n",
       "      <td>1.000000</td>\n",
       "    </tr>\n",
       "    <tr>\n",
       "      <th>max</th>\n",
       "      <td>13685.000000</td>\n",
       "      <td>1.000000</td>\n",
       "    </tr>\n",
       "  </tbody>\n",
       "</table>\n",
       "</div>"
      ],
      "text/plain": [
       "         Unnamed: 0         Label\n",
       "count  13686.000000  13686.000000\n",
       "mean    6842.500000      0.538726\n",
       "std     3950.952227      0.498516\n",
       "min        0.000000      0.000000\n",
       "25%     3421.250000      0.000000\n",
       "50%     6842.500000      1.000000\n",
       "75%    10263.750000      1.000000\n",
       "max    13685.000000      1.000000"
      ]
     },
     "metadata": {},
     "output_type": "display_data"
    },
    {
     "name": "stdout",
     "output_type": "stream",
     "text": [
      "<class 'pandas.core.frame.DataFrame'>\n",
      "RangeIndex: 13686 entries, 0 to 13685\n",
      "Data columns (total 3 columns):\n",
      " #   Column      Non-Null Count  Dtype \n",
      "---  ------      --------------  ----- \n",
      " 0   Unnamed: 0  13686 non-null  int64 \n",
      " 1   Sentence    13686 non-null  object\n",
      " 2   Label       13686 non-null  int64 \n",
      "dtypes: int64(2), object(1)\n",
      "memory usage: 320.9+ KB\n"
     ]
    },
    {
     "data": {
      "text/plain": [
       "None"
      ]
     },
     "metadata": {},
     "output_type": "display_data"
    }
   ],
   "source": [
    "\n",
    "for name, df in {\"SQL\": sql_df, \"XSS\": xss_df}.items():\n",
    "    print(f\"{name} dataset shape: {df.shape}\")\n",
    "    display(df.head())\n",
    "    display(df.describe())\n",
    "    display(df.info())"
   ]
  },
  {
   "cell_type": "code",
   "execution_count": 42,
   "id": "3229dd9b",
   "metadata": {},
   "outputs": [],
   "source": [
    "def class_distribution(df, label_col=\"Label\"):\n",
    "    \"\"\"Zeigt die Klassenverteilung in einem DataFrame.\"\"\"\n",
    "    counts = df[label_col].value_counts(normalize=True)\n",
    "    print(\"Klassenverteilung:\")\n",
    "    print(counts)\n",
    "    plt.figure(figsize=(8, 4))\n",
    "    counts.plot(kind=\"bar\")\n",
    "    plt.title(\"Klassenverteilung\")\n",
    "    plt.xlabel(label_col)\n",
    "    plt.ylabel(\"Anteil\")\n",
    "    plt.xticks(rotation=0)\n",
    "    plt.show()\n",
    "\n",
    "    print(\"SQL Distribution:\")\n",
    "    print(class_distribution(sql_df, \"Label\"))\n",
    "\n",
    "    print(\"XSS Distribution:\")\n",
    "    print(class_distribution(xss_df, \"Label\"))"
   ]
  },
  {
   "cell_type": "markdown",
   "id": "6c1d30aa",
   "metadata": {},
   "source": [
    "## Basic Cleaning\n",
    "* Drop Duplicate rows\n",
    "* Handle missing values (simple fill-na)"
   ]
  },
  {
   "cell_type": "code",
   "execution_count": 43,
   "id": "ce598302",
   "metadata": {},
   "outputs": [],
   "source": [
    "for df in (sql_df, xss_df):\n",
    "    df.drop_duplicates(inplace=True)\n",
    "    df.fillna(0, inplace=True)"
   ]
  },
  {
   "cell_type": "code",
   "execution_count": 44,
   "id": "a5eedf24",
   "metadata": {},
   "outputs": [],
   "source": [
    "def preprocess_xy(df: pd.DataFrame,\n",
    "                  label_candidates=(\"label\", \"class\", \"target\"),\n",
    "                  label_map=None):\n",
    "    if label_map is None:\n",
    "        label_map = {\n",
    "            \"0\": \"0\", \"1\": \"1\",\n",
    "            \"benign\": \"0\", \"normal\": \"0\", \"legitimate\": \"0\", \"safe\": \"0\",\n",
    "            \"attack\": \"1\", \"malicious\": \"1\", \"sql injection\": \"1\",\n",
    "            \"sql-injection\": \"1\", \"xss\": \"1\"\n",
    "        }\n",
    "\n",
    "    # Zielspalte finden (im *übergebenen* df!)\n",
    "    cols_lower = {c.lower(): c for c in df.columns}\n",
    "    target_col = next((cols_lower[c] for c in label_candidates if c in cols_lower), None)\n",
    "    if target_col is None:\n",
    "        raise ValueError(f\"Keine Label-Spalte gefunden. Kandidaten: {label_candidates}\")\n",
    "\n",
    "    # Labels normieren -> nur 0/1 behalten\n",
    "    y_str = df[target_col].astype(str).str.strip().str.lower()\n",
    "    y_map = y_str.map(label_map)\n",
    "    mask = y_map.notna()\n",
    "    y = pd.to_numeric(y_map[mask]).astype(int).to_numpy()\n",
    "\n",
    "    # Rohtext aus allen Nicht-Label-Spalten zusammenbauen\n",
    "    feat_cols = [c for c in df.columns if c != target_col]\n",
    "    X_raw = df.loc[mask, feat_cols].astype(str).agg(\" \".join, axis=1)\n",
    "\n",
    "    return X_raw, y, target_col\n"
   ]
  },
  {
   "cell_type": "markdown",
   "id": "815ce09f",
   "metadata": {},
   "source": [
    "# Globale Settings"
   ]
  },
  {
   "cell_type": "code",
   "execution_count": 45,
   "id": "b6a3f45b",
   "metadata": {},
   "outputs": [
    {
     "name": "stdout",
     "output_type": "stream",
     "text": [
      "[ENV] CUDA avail: True | Torch CUDA build: 12.1\n"
     ]
    }
   ],
   "source": [
    "\n",
    "#Deterministische Ausgabe generieren, um die Reproduzierbarkeit zu gewährleisten\n",
    "RANDOM_STATE = 42\n",
    "#np.random.seed(RANDOM_STATE) wofür das?\n",
    "#random.seed(RANDOM_STATE)\n",
    "os.environ[\"OMP_NUM_THREADS\"] = \"8\"\n",
    "os.environ[\"OPENBLAS_NUM_THREADS\"] = \"8\"\n",
    "torch.set_num_threads(8)\n",
    "\n",
    "USE_CUDA = torch.cuda.is_available()  # für TabPFN & XGBoost\n",
    "print(f\"[ENV] CUDA avail: {USE_CUDA} | Torch CUDA build: {torch.version.cuda}\")\n"
   ]
  },
  {
   "cell_type": "markdown",
   "id": "9ee6d9eb",
   "metadata": {},
   "source": [
    "# Hilfsfunktionen "
   ]
  },
  {
   "cell_type": "markdown",
   "id": "790bf05a",
   "metadata": {},
   "source": [
    "## Evaluationsmetriken"
   ]
  },
  {
   "cell_type": "code",
   "execution_count": 46,
   "id": "ba189305",
   "metadata": {},
   "outputs": [],
   "source": [
    "def binary_metrics(y_true, y_pred) -> dict:\n",
    "    \"\"\"Präzision/Recall/F1 & Raten (FPR/FNR) für binäre Klassifikation.\"\"\"\n",
    "    y_pred = np.asarray(y_pred).ravel()\n",
    "    p  = precision_score(y_true, y_pred)\n",
    "    r  = recall_score(y_true, y_pred)\n",
    "    f1 = f1_score(y_true, y_pred)\n",
    "    tn, fp, fn, tp = confusion_matrix(y_true, y_pred).ravel()\n",
    "    fpr = float(fp / (fp + tn)) if (fp + tn) else 0.0\n",
    "    fnr = float(fn / (fn + tp)) if (fn + tp) else 0.0\n",
    "    return dict(Precision=p, Recall=r, F1=f1, FPR=fpr, FNR=fnr)\n",
    "\n",
    "def evaluate_model(model, X_test, y_test, name, use_batches=False, batch_size=256) -> dict: #Dictionary für Evaluierungsmetriken\n",
    "    \"\"\"Zeitmessung + Vorhersage (optional in Batches) + Metriken.\"\"\"\n",
    "    print(f\"→ Evaluate {name} on X_test={getattr(X_test,'shape',None)}\")\n",
    "    t0 = time.perf_counter()\n",
    "    if use_batches:\n",
    "        y_pred = predict_in_batches(model, X_test, batch_size=batch_size, verbose=True)\n",
    "    else:\n",
    "        y_pred = model.predict(X_test)\n",
    "    pred_s = time.perf_counter() - t0\n",
    "    m = binary_metrics(y_test, y_pred)\n",
    "    res = dict(Model=name, Pred_s=pred_s, **m)\n",
    "    return res"
   ]
  },
  {
   "cell_type": "code",
   "execution_count": 47,
   "id": "e35d80b3",
   "metadata": {},
   "outputs": [],
   "source": [
    "def plot_confusion_matrix(y_true, y_pred, labels=None, title=\"Confusion Matrix\"):\n",
    "    \"\"\"Zeigt eine Konfusionsmatrix an.\"\"\"\n",
    "    cm = confusion_matrix(y_true, y_pred, labels=labels)\n",
    "    plt.figure(figsize=(8, 6))\n",
    "    plt.imshow(cm, interpolation='nearest', cmap=plt.cm.Blues)\n",
    "    plt.title(title)\n",
    "    plt.colorbar()\n",
    "    tick_marks = np.arange(len(labels))\n",
    "    plt.xticks(tick_marks, labels, rotation=45)\n",
    "    plt.yticks(tick_marks, labels)\n",
    "\n",
    "    thresh = cm.max() / 2\n",
    "    for i in range(len(labels)):\n",
    "        for j in range(len(labels)):\n",
    "            plt.text(j, i, cm[i, j], horizontalalignment='center',\n",
    "                     color='white' if cm[i, j] > thresh else 'black')\n",
    "\n",
    "    plt.ylabel('True label')\n",
    "    plt.xlabel('Predicted label')\n",
    "    plt.tight_layout()\n",
    "    plt.show()"
   ]
  },
  {
   "cell_type": "markdown",
   "id": "8b7c572f",
   "metadata": {},
   "source": [
    "## Preprocessing"
   ]
  },
  {
   "cell_type": "markdown",
   "id": "6b10bd60",
   "metadata": {},
   "source": [
    "### Batchweise Vorhersage für TabPFN"
   ]
  },
  {
   "cell_type": "code",
   "execution_count": 48,
   "id": "e9fc7885",
   "metadata": {},
   "outputs": [],
   "source": [
    "def predict_in_batches(model, X, batch_size=256, verbose=False):\n",
    "    \"\"\"Vorhersage in Batches (schont RAM/VRAM; wichtig für TabPFN).\"\"\"\n",
    "    n = X.shape[0]\n",
    "    out = []\n",
    "    total = math.ceil(n / batch_size)\n",
    "    for b, i in enumerate(range(0, n, batch_size), start=1):\n",
    "        j = min(i + batch_size, n)\n",
    "        t1 = time.perf_counter()\n",
    "        with torch.inference_mode():\n",
    "            out.append(model.predict(X[i:j]))\n",
    "        dt = time.perf_counter() - t1\n",
    "        if verbose:\n",
    "            print(f\"   [predict] batch {b:>3}/{total} ({j-i} rows) in {dt:.2f}s\")\n",
    "        if USE_CUDA:\n",
    "            torch.cuda.synchronize()\n",
    "    return np.concatenate(out)"
   ]
  },
  {
   "cell_type": "markdown",
   "id": "0e2e87bd",
   "metadata": {},
   "source": [
    "### Label bereinigung der Datensets"
   ]
  },
  {
   "cell_type": "code",
   "execution_count": 49,
   "id": "8bbb5358",
   "metadata": {},
   "outputs": [],
   "source": [
    "def clean_labels(df, label_col=\"Label\", text_cols=(\"Sentence\",)):\n",
    "    \"\"\"Bringt Labels robust auf {0,1} und gibt (X_raw, y) zurück.\"\"\"\n",
    "    df = df.copy()\n",
    "    \n",
    "    # Labels in {0,1} umwandeln\n",
    "    y_raw = df[label_col].astype(str).str.strip().str.lower()\n",
    "    map01 = {\n",
    "        \"0\": \"0\", \"1\": \"1\", \"benign\": \"0\", \"normal\": \"0\", \"legitimate\": \"0\", \"safe\": \"0\",\n",
    "        \"attack\": \"1\", \"malicious\": \"1\", \"sql injection\": \"1\", \"sql-injection\": \"1\", \"xss\": \"1\"\n",
    "    }\n",
    "    y_map = y_raw.map(map01)\n",
    "    mask = y_map.notna()\n",
    "    y = pd.to_numeric(y_map[mask]).astype(int).to_numpy()\n",
    "    \n",
    "    # Explizit nur angegebene Textspalten verwenden!\n",
    "    X_raw = df.loc[mask, text_cols].astype(str).agg(\" \".join, axis=1)\n",
    "    \n",
    "    return X_raw, y"
   ]
  },
  {
   "cell_type": "markdown",
   "id": "875e8afa",
   "metadata": {},
   "source": [
    "## Split"
   ]
  },
  {
   "cell_type": "code",
   "execution_count": 50,
   "id": "17e9bc29",
   "metadata": {},
   "outputs": [],
   "source": [
    "# Falls clean_labels(X) bereits (Rohtext, y) zurückgibt:\n",
    "X_txt_sql, y_sql = clean_labels(sql_df, label_col=\"Label\", text_cols=(\"Sentence\",))\n",
    "X_train_sql, X_test_sql, y_train_sql, y_test_sql = train_test_split(\n",
    "    X_txt_sql, y_sql, test_size=0.2, stratify=y_sql, random_state=RANDOM_STATE\n",
    ")\n",
    "\n",
    "X_txt_xss, y_xss = clean_labels(xss_df, label_col=\"Label\", text_cols=(\"Sentence\",))\n",
    "X_train_xss, X_test_xss, y_train_xss, y_test_xss = train_test_split(\n",
    "    X_txt_xss, y_xss, test_size=0.2, stratify=y_xss, random_state=RANDOM_STATE\n",
    ")"
   ]
  },
  {
   "cell_type": "code",
   "execution_count": 51,
   "id": "699e9e3b",
   "metadata": {},
   "outputs": [
    {
     "data": {
      "image/png": "[encoded data removed]",
      "text/plain": [
       "<Figure size 800x400 with 1 Axes>"
      ]
     },
     "metadata": {},
     "output_type": "display_data"
    },
    {
     "data": {
      "image/png": "[encoded data removed]",
      "text/plain": [
       "<Figure size 800x400 with 1 Axes>"
      ]
     },
     "metadata": {},
     "output_type": "display_data"
    },
    {
     "data": {
      "image/png": "[encoded data removed]",
      "text/plain": [
       "<Figure size 800x400 with 1 Axes>"
      ]
     },
     "metadata": {},
     "output_type": "display_data"
    },
    {
     "data": {
      "image/png": "[encoded data removed]",
      "text/plain": [
       "<Figure size 800x400 with 1 Axes>"
      ]
     },
     "metadata": {},
     "output_type": "display_data"
    }
   ],
   "source": [
    "def plot_class_distribution(y, title=\"Label-Verteilung\"):\n",
    "    \"\"\"Zeigt die Label-Verteilung in einem Balkendiagramm.\"\"\"\n",
    "    counts = pd.Series(y).value_counts(normalize=True)\n",
    "    plt.figure(figsize=(8, 4))\n",
    "    counts.plot(kind=\"bar\")\n",
    "    plt.title(title)\n",
    "    plt.xlabel(\"Label (0=benign, 1=attack)\")\n",
    "    plt.ylabel(\"Anzahl\")\n",
    "    plt.xticks(rotation=0)\n",
    "    plt.show()\n",
    "\n",
    "plot_class_distribution(y_train_sql, \"SQL Train Label-Verteilung\")\n",
    "plot_class_distribution(y_test_sql, \"SQL Test Label-Verteilung\")\n",
    "\n",
    "plot_class_distribution(y_train_xss, \"XSS Train Label-Verteilung\")\n",
    "plot_class_distribution(y_test_xss, \"XSS Test Label-Verteilung\")"
   ]
  },
  {
   "cell_type": "markdown",
   "id": "a8603672",
   "metadata": {},
   "source": [
    "## Beispielzeilen für Benign und Malicious Zeilen"
   ]
  },
  {
   "cell_type": "code",
   "execution_count": 52,
   "id": "c1d3aec8",
   "metadata": {},
   "outputs": [
    {
     "name": "stdout",
     "output_type": "stream",
     "text": [
      "SQL Beispielhafte Zeilen vor Filter: \" or pg_sleep  (  __TIME__  )  --\n",
      "XSS Beispielhafte Zeilen nach Filter: <li><a href=\"/wiki/File:Socrates.png\" class=\"image\"><img alt=\"Socrates.png\" src=\"//upload.wikimedia.org/wikipedia/commons/thumb/c/cd/Socrates.png/18px-Socrates.png\" decoding=\"async\" width=\"18\" height=\"28\" class=\"noviewer\" srcset=\"//upload.wikimedia.org/wikipedia/commons/thumb/c/cd/Socrates.png/27px-Socrates.png 1.5x, //upload.wikimedia.org/wikipedia/commons/thumb/c/cd/Socrates.png/36px-Socrates.png 2x\" data-file-width=\"326\" data-file-height=\"500\" /> </a> <a href=\"/wiki/Portal:Philosophy\" title=\"Portal:Philosophy\">Philosophy&#32;portal </a> </li> </ul>\n",
      "----------------------\n",
      "Beispiel für SQL-Injection:\n",
      "Benign: create user name identified by pass123 temporary tablespace temp default tablespace users\n",
      "Malicious: \" or pg_sleep  (  __TIME__  )  --\n",
      "\n",
      "Beispiel für XSS:\n",
      "Benign: <li><a href=\"/wiki/File:Socrates.png\" class=\"image\"><img alt=\"Socrates.png\" src=\"//upload.wikimedia.org/wikipedia/commons/thumb/c/cd/Socrates.png/18px-Socrates.png\" decoding=\"async\" width=\"18\" height=\"28\" class=\"noviewer\" srcset=\"//upload.wikimedia.org/wikipedia/commons/thumb/c/cd/Socrates.png/27px-Socrates.png 1.5x, //upload.wikimedia.org/wikipedia/commons/thumb/c/cd/Socrates.png/36px-Socrates.png 2x\" data-file-width=\"326\" data-file-height=\"500\" /> </a> <a href=\"/wiki/Portal:Philosophy\" title=\"Portal:Philosophy\">Philosophy&#32;portal </a> </li> </ul>\n",
      "Malicious: <tt onmouseover=\"alert(1)\">test</tt>\n"
     ]
    }
   ],
   "source": [
    "def example_lines(X, y, min_len=10):\n",
    "    # Falls X ein DataFrame ist, versuche, die Textspalte zu finden\n",
    "    if isinstance(X, pd.DataFrame):\n",
    "        if \"Sentence\" in X.columns:\n",
    "            X = X[\"Sentence\"]\n",
    "        else:\n",
    "            raise ValueError(\"X ist ein DataFrame, aber enthält keine 'Sentence'-Spalte.\")\n",
    "\n",
    "    # Nun: Standardfilterung\n",
    "    benigns = X[(y == 0) & (X.str.len() > min_len)]\n",
    "    malicious = X[(y == 1) & (X.str.len() > min_len)]\n",
    "\n",
    "    if len(benigns) == 0 or len(malicious) == 0:\n",
    "        raise ValueError(\"Nicht genügend Beispiele für benign und malicious gefunden.\")\n",
    "\n",
    "    return benigns.iloc[0], malicious.iloc[0]\n",
    "\n",
    "X_sql, y_sql = clean_labels(sql_df, label_col=\"Label\", text_cols=(\"Sentence\",))\n",
    "sql_benign, sql_malicious = example_lines(X_sql, y_sql)\n",
    "\n",
    "X_xss, y_xss = clean_labels(xss_df, label_col=\"Label\", text_cols=(\"Sentence\",))\n",
    "xss_benign, xss_malicious = example_lines(X_xss, y_xss)\n",
    "\n",
    "print(\"SQL Beispielhafte Zeilen vor Filter:\", X_txt_sql.iloc[0])\n",
    "print(\"XSS Beispielhafte Zeilen nach Filter:\", X_txt_xss.iloc[0])\n",
    "\n",
    "print(\"----------------------\")\n",
    "\n",
    "print(\"Beispiel für SQL-Injection:\")\n",
    "\n",
    "print(\"Benign:\", sql_benign)\n",
    "print(\"Malicious:\", sql_malicious)\n",
    "\n",
    "print(\"\\nBeispiel für XSS:\")\n",
    "\n",
    "print(\"Benign:\", xss_benign)\n",
    "print(\"Malicious:\", xss_malicious)"
   ]
  },
  {
   "cell_type": "markdown",
   "id": "4fe7b6ec",
   "metadata": {},
   "source": [
    "# Modelle"
   ]
  },
  {
   "cell_type": "code",
   "execution_count": 53,
   "id": "18928fde",
   "metadata": {},
   "outputs": [],
   "source": [
    "models = {\n",
    "    \"RandomForest\": RandomForestClassifier(n_estimators=300, n_jobs=-1, random_state=RANDOM_STATE),\n",
    "    \"MLP\": MLPClassifier(hidden_layer_sizes=(256,128), activation=\"relu\",\n",
    "                         early_stopping=True, n_iter_no_change=5, max_iter=200,\n",
    "                         random_state=RANDOM_STATE),\n",
    "    \"XGBoost\": XGBClassifier(\n",
    "        n_estimators=500, max_depth=6, learning_rate=0.1,\n",
    "        subsample=0.9, colsample_bytree=0.8,\n",
    "        tree_method=\"hist\", device=(\"cuda\" if USE_CUDA else \"cpu\"),\n",
    "        random_state=RANDOM_STATE\n",
    "    ),\n",
    "    \"CatBoost\": CatBoostClassifier(\n",
    "        iterations=400, depth=8, learning_rate=0.1,\n",
    "        loss_function=\"Logloss\", random_seed=RANDOM_STATE, verbose=False,\n",
    "        task_type=\"CPU\"   # stabil über Pool + Sparse; bei GPU: task_type=\"GPU\" und ggf. Dense verwenden\n",
    "    ),\n",
    "    \"TabPFN\": TabPFNClassifier(\n",
    "        device=(\"cuda\" if USE_CUDA else \"cpu\"),\n",
    "        ignore_pretraining_limits=True\n",
    "    )\n",
    "}"
   ]
  },
  {
   "cell_type": "markdown",
   "id": "690192f4",
   "metadata": {},
   "source": [
    "# Pipeline"
   ]
  },
  {
   "cell_type": "code",
   "execution_count": 54,
   "id": "0ee0af3d",
   "metadata": {},
   "outputs": [],
   "source": [
    "#TDF-IDF Einstellungen\n",
    "#VEC_ARGS = dict(ngram_range=(3,5), max_features=50_000, sublinear_tf=True, lowercase=False)\n",
    "VEC_ARGS = dict(analyzer=\"char\", ngram_range=(3,5), min_df=3, max_features=50_000, sublinear_tf=True, lowercase=False, dtype=np.float32)\n",
    "\n",
    "\n",
    "TABPFN_MAX_SAMPLES = 4000     # starte konservativ; später 6000/8000 testen\n",
    "TABPFN_N_COMPONENTS = 150     # <=500, kleiner = schneller/ram-sparender\n",
    "TABPFN_BATCH = 128            # Batch für Predict; 128/64 bei RAM-Engpässen\n",
    "\n",
    "results = []\n",
    "\n"
   ]
  },
  {
   "cell_type": "markdown",
   "id": "1e3c27db",
   "metadata": {},
   "source": [
    "## Pipeline je Datensatz (TF-IDF; TabPFN: SVD + batched predict)"
   ]
  },
  {
   "cell_type": "code",
   "execution_count": 55,
   "id": "59857f70",
   "metadata": {},
   "outputs": [
    {
     "name": "stdout",
     "output_type": "stream",
     "text": [
      "\n",
      "======================================================================\n",
      "DATASET: SQL | train=24675 test=6169 (pos_rate_train=0.367)\n",
      "TF-IDF Features: 50000\n",
      "Beispiel-Feature: [' !<' ' !<@' ' \" ' ' \" (' ' \" ( ' ' \" )' ' \" ) ' ' \" o' ' \" or' ' \"\"']\n",
      "[VEC] TF-IDF train=(24675, 50000), test=(6169, 50000) in 3.93s\n",
      "--------------------------------------------------\n",
      "MODEL: RandomForest on SQL\n",
      "[RandomForest] fit in 4.80s\n",
      "→ Evaluate RandomForest-SQL on X_test=(6169, 50000)\n",
      "{'Model': 'RandomForest-SQL', 'Pred_s': 0.19167390000075102, 'Precision': 0.9991083370485956, 'Recall': 0.9885310983678871, 'F1': 0.9937915742793791, 'FPR': 0.0005125576627370579, 'FNR': 0.011468901632112925}\n",
      "--------------------------------------------------\n",
      "MODEL: MLP on SQL\n",
      "[MLP] fit in 254.68s\n",
      "→ Evaluate MLP-SQL on X_test=(6169, 50000)\n",
      "{'Model': 'MLP-SQL', 'Pred_s': 0.08696669999335427, 'Precision': 0.999553770638108, 'Recall': 0.9880899867666519, 'F1': 0.9937888198757764, 'FPR': 0.00025627883136852895, 'FNR': 0.011910013233348038}\n",
      "--------------------------------------------------\n",
      "MODEL: XGBoost on SQL\n",
      "[XGBoost] fit in 5.78s\n",
      "→ Evaluate XGBoost-SQL on X_test=(6169, 50000)\n",
      "{'Model': 'XGBoost-SQL', 'Pred_s': 0.023167599996668287, 'Precision': 0.9232643118148599, 'Recall': 0.6687251874724305, 'F1': 0.7756459452545408, 'FPR': 0.03229113275243465, 'FNR': 0.33127481252756946}\n",
      "--------------------------------------------------\n",
      "MODEL: CatBoost on SQL\n",
      "[CatBoost] fit in 832.83s\n",
      "→ Evaluate CatBoost-SQL on X_test=(6169, 50000)\n",
      "{'Model': 'CatBoost-SQL', 'Pred_s': 0.18062559999816585, 'Precision': 0.9991075412762159, 'Recall': 0.9876488751654169, 'F1': 0.9933451641526175, 'FPR': 0.0005125576627370579, 'FNR': 0.012351124834583149}\n",
      "--------------------------------------------------\n",
      "MODEL: TabPFN on SQL\n",
      "[TabPFN] train subset: 4000 rows\n",
      "[TabPFN] SVD train=(4000, 150), test=(6169, 150) in 2.14s\n",
      "[TabPFN] fit in 2.77s (device=cuda)\n",
      "→ Evaluate TabPFN-SQL on X_test=(6169, 150)\n",
      "   [predict] batch   1/49 (128 rows) in 25.63s\n",
      "   [predict] batch   2/49 (128 rows) in 25.74s\n",
      "   [predict] batch   3/49 (128 rows) in 25.90s\n",
      "   [predict] batch   4/49 (128 rows) in 25.85s\n",
      "   [predict] batch   5/49 (128 rows) in 25.82s\n",
      "   [predict] batch   6/49 (128 rows) in 25.77s\n",
      "   [predict] batch   7/49 (128 rows) in 26.18s\n",
      "   [predict] batch   8/49 (128 rows) in 26.75s\n",
      "   [predict] batch   9/49 (128 rows) in 26.37s\n",
      "   [predict] batch  10/49 (128 rows) in 25.31s\n",
      "   [predict] batch  11/49 (128 rows) in 25.31s\n",
      "   [predict] batch  12/49 (128 rows) in 25.35s\n",
      "   [predict] batch  13/49 (128 rows) in 25.31s\n",
      "   [predict] batch  14/49 (128 rows) in 25.35s\n",
      "   [predict] batch  15/49 (128 rows) in 25.23s\n",
      "   [predict] batch  16/49 (128 rows) in 25.34s\n",
      "   [predict] batch  17/49 (128 rows) in 25.27s\n",
      "   [predict] batch  18/49 (128 rows) in 25.24s\n",
      "   [predict] batch  19/49 (128 rows) in 25.31s\n",
      "   [predict] batch  20/49 (128 rows) in 25.33s\n",
      "   [predict] batch  21/49 (128 rows) in 25.31s\n",
      "   [predict] batch  22/49 (128 rows) in 25.25s\n",
      "   [predict] batch  23/49 (128 rows) in 25.30s\n",
      "   [predict] batch  24/49 (128 rows) in 25.28s\n",
      "   [predict] batch  25/49 (128 rows) in 25.29s\n",
      "   [predict] batch  26/49 (128 rows) in 25.28s\n",
      "   [predict] batch  27/49 (128 rows) in 25.31s\n",
      "   [predict] batch  28/49 (128 rows) in 25.31s\n",
      "   [predict] batch  29/49 (128 rows) in 25.29s\n",
      "   [predict] batch  30/49 (128 rows) in 25.23s\n",
      "   [predict] batch  31/49 (128 rows) in 25.32s\n",
      "   [predict] batch  32/49 (128 rows) in 25.26s\n",
      "   [predict] batch  33/49 (128 rows) in 25.26s\n",
      "   [predict] batch  34/49 (128 rows) in 25.31s\n",
      "   [predict] batch  35/49 (128 rows) in 25.35s\n",
      "   [predict] batch  36/49 (128 rows) in 25.27s\n",
      "   [predict] batch  37/49 (128 rows) in 25.21s\n",
      "   [predict] batch  38/49 (128 rows) in 25.45s\n",
      "   [predict] batch  39/49 (128 rows) in 25.22s\n",
      "   [predict] batch  40/49 (128 rows) in 25.35s\n",
      "   [predict] batch  41/49 (128 rows) in 25.20s\n",
      "   [predict] batch  42/49 (128 rows) in 25.34s\n",
      "   [predict] batch  43/49 (128 rows) in 25.47s\n",
      "   [predict] batch  44/49 (128 rows) in 25.34s\n",
      "   [predict] batch  45/49 (128 rows) in 25.24s\n",
      "   [predict] batch  46/49 (128 rows) in 25.21s\n",
      "   [predict] batch  47/49 (128 rows) in 25.29s\n",
      "   [predict] batch  48/49 (128 rows) in 25.39s\n",
      "   [predict] batch  49/49 (25 rows) in 87.96s\n",
      "{'Model': 'TabPFN-SQL', 'Pred_s': 1308.6250393999944, 'Precision': 0.9986619090098127, 'Recall': 0.9876488751654169, 'F1': 0.9931248613883344, 'FPR': 0.0007688364941055869, 'FNR': 0.012351124834583149}\n",
      "\n",
      "======================================================================\n",
      "DATASET: XSS | train=10948 test=2738 (pos_rate_train=0.539)\n",
      "TF-IDF Features: 50000\n",
      "Beispiel-Feature: ['\\t<a' '\\t<a ' '\\t<a h' '\\t<d' '\\t<di' '\\t<div' '\\t<h' '\\t<h3' '\\t<h3 '\n",
      " '\\t<s']\n",
      "[VEC] TF-IDF train=(10948, 50000), test=(2738, 50000) in 2.97s\n",
      "--------------------------------------------------\n",
      "MODEL: RandomForest on XSS\n",
      "[RandomForest] fit in 1.08s\n",
      "→ Evaluate RandomForest-XSS on X_test=(2738, 50000)\n",
      "{'Model': 'RandomForest-XSS', 'Pred_s': 0.09839299999293871, 'Precision': 1.0, 'Recall': 0.9966101694915255, 'F1': 0.99830220713073, 'FPR': 0.0, 'FNR': 0.003389830508474576}\n",
      "--------------------------------------------------\n",
      "MODEL: MLP on XSS\n",
      "[MLP] fit in 117.02s\n",
      "→ Evaluate MLP-XSS on X_test=(2738, 50000)\n",
      "{'Model': 'MLP-XSS', 'Pred_s': 0.056769200004055165, 'Precision': 1.0, 'Recall': 0.9993220338983051, 'F1': 0.9996609020006781, 'FPR': 0.0, 'FNR': 0.0006779661016949153}\n",
      "--------------------------------------------------\n",
      "MODEL: XGBoost on XSS\n",
      "[XGBoost] fit in 116.97s\n",
      "→ Evaluate XGBoost-XSS on X_test=(2738, 50000)\n",
      "{'Model': 'XGBoost-XSS', 'Pred_s': 0.030177199994795956, 'Precision': 0.9950354609929078, 'Recall': 0.9511864406779661, 'F1': 0.9726169844020798, 'FPR': 0.0055423594615993665, 'FNR': 0.0488135593220339}\n",
      "--------------------------------------------------\n",
      "MODEL: CatBoost on XSS\n",
      "[CatBoost] fit in 702.36s\n",
      "→ Evaluate CatBoost-XSS on X_test=(2738, 50000)\n",
      "{'Model': 'CatBoost-XSS', 'Pred_s': 0.1387140000006184, 'Precision': 1.0, 'Recall': 0.9952542372881356, 'F1': 0.9976214746856948, 'FPR': 0.0, 'FNR': 0.0047457627118644066}\n",
      "--------------------------------------------------\n",
      "MODEL: TabPFN on XSS\n",
      "[TabPFN] train subset: 4000 rows\n",
      "[TabPFN] SVD train=(4000, 150), test=(2738, 150) in 2.36s\n",
      "[TabPFN] fit in 3.65s (device=cuda)\n",
      "→ Evaluate TabPFN-XSS on X_test=(2738, 150)\n",
      "   [predict] batch   1/22 (128 rows) in 25.33s\n",
      "   [predict] batch   2/22 (128 rows) in 25.11s\n",
      "   [predict] batch   3/22 (128 rows) in 25.25s\n",
      "   [predict] batch   4/22 (128 rows) in 25.21s\n",
      "   [predict] batch   5/22 (128 rows) in 25.32s\n",
      "   [predict] batch   6/22 (128 rows) in 25.18s\n",
      "   [predict] batch   7/22 (128 rows) in 25.18s\n",
      "   [predict] batch   8/22 (128 rows) in 25.14s\n",
      "   [predict] batch   9/22 (128 rows) in 25.13s\n",
      "   [predict] batch  10/22 (128 rows) in 25.14s\n",
      "   [predict] batch  11/22 (128 rows) in 25.21s\n",
      "   [predict] batch  12/22 (128 rows) in 25.12s\n",
      "   [predict] batch  13/22 (128 rows) in 25.25s\n",
      "   [predict] batch  14/22 (128 rows) in 25.18s\n",
      "   [predict] batch  15/22 (128 rows) in 25.29s\n",
      "   [predict] batch  16/22 (128 rows) in 25.24s\n",
      "   [predict] batch  17/22 (128 rows) in 25.22s\n",
      "   [predict] batch  18/22 (128 rows) in 25.23s\n",
      "   [predict] batch  19/22 (128 rows) in 25.12s\n",
      "   [predict] batch  20/22 (128 rows) in 25.18s\n",
      "   [predict] batch  21/22 (128 rows) in 25.11s\n",
      "   [predict] batch  22/22 (50 rows) in 57.27s\n",
      "{'Model': 'TabPFN-XSS', 'Pred_s': 586.4186313999962, 'Precision': 0.9979605710401088, 'Recall': 0.9952542372881356, 'F1': 0.9966055668703326, 'FPR': 0.0023752969121140144, 'FNR': 0.0047457627118644066}\n"
     ]
    }
   ],
   "source": [
    "# ===== vorausgesetzt: deine fertigen Splits existieren =====\n",
    "# X_train_sql, X_test_sql, y_train_sql, y_test_sql\n",
    "# X_train_xss, X_test_xss, y_train_xss, y_test_xss\n",
    "\n",
    "from sklearn.base import clone\n",
    "from sklearn.model_selection import StratifiedShuffleSplit\n",
    "from sklearn.feature_extraction.text import TfidfVectorizer\n",
    "from sklearn.decomposition import TruncatedSVD\n",
    "from catboost import Pool\n",
    "import numpy as np, time, torch\n",
    "\n",
    "\n",
    "splits = {\n",
    "    \"SQL\": (X_train_sql, X_test_sql, y_train_sql, y_test_sql),\n",
    "    \"XSS\": (X_train_xss, X_test_xss, y_train_xss, y_test_xss),\n",
    "}\n",
    "\n",
    "for ds_name, (X_train_txt, X_test_txt, y_train, y_test) in splits.items():\n",
    "    print(\"\\n\" + \"=\"*70)\n",
    "    print(f\"DATASET: {ds_name} | train={len(y_train)} test={len(y_test)} (pos_rate_train={np.mean(y_train):.3f})\")\n",
    "\n",
    "    #TF-IDF nur auf Train fitten (kein Leakage)\n",
    "    vec = TfidfVectorizer(**VEC_ARGS)\n",
    "    t0 = time.perf_counter()\n",
    "    X_train_vec = vec.fit_transform(X_train_txt)\n",
    "    #Feature anzeigen\n",
    "    feature_names = vec.get_feature_names_out()\n",
    "    print(f\"TF-IDF Features: {len(feature_names)}\")\n",
    "    print(\"Beispiel-Feature:\", feature_names[:10])  # Zeigt das\n",
    "    X_test_vec  = vec.transform(X_test_txt)\n",
    "    print(f\"[VEC] TF-IDF train={X_train_vec.shape}, test={X_test_vec.shape} in {time.perf_counter()-t0:.2f}s\")\n",
    "\n",
    "    #Modelle trainieren/evaluieren (jeweils frischen Klon verwenden)\n",
    "    for name, base_model in models.items():\n",
    "        model = clone(base_model)\n",
    "        print(\"-\"*50 + f\"\\nMODEL: {name} on {ds_name}\")\n",
    "\n",
    "        if name == \"CatBoost\":\n",
    "            # CatBoost: Pool nutzen (sparse ok)\n",
    "            pool_train = Pool(X_train_vec, y_train)\n",
    "            t0 = time.perf_counter()\n",
    "            model.fit(pool_train)\n",
    "            print(f\"[{name}] fit in {time.perf_counter()-t0:.2f}s\")\n",
    "\n",
    "            # Test direkt auf X_test_vec (CatBoost kann CSR); alternativ: Pool(X_test_vec, y_test)\n",
    "            res = evaluate_model(model, X_test_vec, y_test, f\"{name}-{ds_name}\")\n",
    "            results.append(res)\n",
    "            print(res)\n",
    "\n",
    "        elif name == \"TabPFN\":\n",
    "            # TabPFN: ggf. stratifiziertes Subset (Limits), danach SVD -> dichte float32\n",
    "            X_tab, y_tab = X_train_vec, y_train\n",
    "            if X_train_vec.shape[0] > TABPFN_MAX_SAMPLES:\n",
    "                sss = StratifiedShuffleSplit(n_splits=1, train_size=TABPFN_MAX_SAMPLES, random_state=RANDOM_STATE)\n",
    "                idx, _ = next(sss.split(np.zeros(len(y_train)), y_train))\n",
    "                X_tab = X_train_vec[idx]\n",
    "                y_tab = np.asarray(y_train)[idx]\n",
    "            print(f\"[{name}] train subset: {X_tab.shape[0]} rows\")\n",
    "\n",
    "            t0 = time.perf_counter()\n",
    "            svd = TruncatedSVD(n_components=TABPFN_N_COMPONENTS, random_state=RANDOM_STATE)\n",
    "            X_train_svd = svd.fit_transform(X_tab).astype(\"float32\", copy=False)\n",
    "            X_test_svd  = svd.transform(X_test_vec).astype(\"float32\", copy=False)\n",
    "            print(f\"[{name}] SVD train={X_train_svd.shape}, test={X_test_svd.shape} in {time.perf_counter()-t0:.2f}s\")\n",
    "\n",
    "            # Gerät einstellen & fitten\n",
    "            if hasattr(model, \"set_params\"):\n",
    "                model.set_params(device=(\"cuda\" if USE_CUDA else \"cpu\"), ignore_pretraining_limits=True)\n",
    "            t0 = time.perf_counter()\n",
    "            model.fit(X_train_svd, y_tab)\n",
    "            if USE_CUDA:\n",
    "                torch.cuda.synchronize()\n",
    "            print(f\"[{name}] fit in {time.perf_counter()-t0:.2f}s (device={'cuda' if USE_CUDA else 'cpu'})\")\n",
    "\n",
    "            # Evaluieren (wenn deine evaluate_model batched predict unterstützt, ansonsten normal)\n",
    "            try:\n",
    "                res = evaluate_model(model, X_test_svd, y_test, f\"{name}-{ds_name}\",\n",
    "                                     use_batches=True, batch_size=TABPFN_BATCH)\n",
    "            except TypeError:\n",
    "                res = evaluate_model(model, X_test_svd, y_test, f\"{name}-{ds_name}\")\n",
    "            results.append(res)\n",
    "            print(res)\n",
    "\n",
    "        else:\n",
    "            # RF / MLP / XGBoost: direkt auf sparse TF-IDF\n",
    "            t0 = time.perf_counter()\n",
    "            model.fit(X_train_vec, y_train)\n",
    "            print(f\"[{name}] fit in {time.perf_counter()-t0:.2f}s\")\n",
    "            res = evaluate_model(model, X_test_vec, y_test, f\"{name}-{ds_name}\")\n",
    "            results.append(res)\n",
    "            print(res)\n",
    "\n"
   ]
  },
  {
   "cell_type": "markdown",
   "id": "6574d3c4",
   "metadata": {},
   "source": [
    "# Ergebnisse für Modelle"
   ]
  },
  {
   "cell_type": "markdown",
   "id": "0fd8e411",
   "metadata": {},
   "source": [
    "## Ergebnistabelle ausgeben"
   ]
  },
  {
   "cell_type": "code",
   "execution_count": 56,
   "id": "173bb883",
   "metadata": {},
   "outputs": [
    {
     "data": {
      "text/html": [
       "<div>\n",
       "<style scoped>\n",
       "    .dataframe tbody tr th:only-of-type {\n",
       "        vertical-align: middle;\n",
       "    }\n",
       "\n",
       "    .dataframe tbody tr th {\n",
       "        vertical-align: top;\n",
       "    }\n",
       "\n",
       "    .dataframe thead th {\n",
       "        text-align: right;\n",
       "    }\n",
       "</style>\n",
       "<table border=\"1\" class=\"dataframe\">\n",
       "  <thead>\n",
       "    <tr style=\"text-align: right;\">\n",
       "      <th></th>\n",
       "      <th>Model</th>\n",
       "      <th>Pred_s</th>\n",
       "      <th>Precision</th>\n",
       "      <th>Recall</th>\n",
       "      <th>F1</th>\n",
       "      <th>FPR</th>\n",
       "      <th>FNR</th>\n",
       "    </tr>\n",
       "  </thead>\n",
       "  <tbody>\n",
       "    <tr>\n",
       "      <th>0</th>\n",
       "      <td>CatBoost-SQL</td>\n",
       "      <td>0.180626</td>\n",
       "      <td>0.999108</td>\n",
       "      <td>0.987649</td>\n",
       "      <td>0.993345</td>\n",
       "      <td>0.000513</td>\n",
       "      <td>0.012351</td>\n",
       "    </tr>\n",
       "    <tr>\n",
       "      <th>1</th>\n",
       "      <td>CatBoost-XSS</td>\n",
       "      <td>0.138714</td>\n",
       "      <td>1.000000</td>\n",
       "      <td>0.995254</td>\n",
       "      <td>0.997621</td>\n",
       "      <td>0.000000</td>\n",
       "      <td>0.004746</td>\n",
       "    </tr>\n",
       "    <tr>\n",
       "      <th>2</th>\n",
       "      <td>MLP-SQL</td>\n",
       "      <td>0.086967</td>\n",
       "      <td>0.999554</td>\n",
       "      <td>0.988090</td>\n",
       "      <td>0.993789</td>\n",
       "      <td>0.000256</td>\n",
       "      <td>0.011910</td>\n",
       "    </tr>\n",
       "    <tr>\n",
       "      <th>3</th>\n",
       "      <td>MLP-XSS</td>\n",
       "      <td>0.056769</td>\n",
       "      <td>1.000000</td>\n",
       "      <td>0.999322</td>\n",
       "      <td>0.999661</td>\n",
       "      <td>0.000000</td>\n",
       "      <td>0.000678</td>\n",
       "    </tr>\n",
       "    <tr>\n",
       "      <th>4</th>\n",
       "      <td>RandomForest-SQL</td>\n",
       "      <td>0.191674</td>\n",
       "      <td>0.999108</td>\n",
       "      <td>0.988531</td>\n",
       "      <td>0.993792</td>\n",
       "      <td>0.000513</td>\n",
       "      <td>0.011469</td>\n",
       "    </tr>\n",
       "    <tr>\n",
       "      <th>5</th>\n",
       "      <td>RandomForest-XSS</td>\n",
       "      <td>0.098393</td>\n",
       "      <td>1.000000</td>\n",
       "      <td>0.996610</td>\n",
       "      <td>0.998302</td>\n",
       "      <td>0.000000</td>\n",
       "      <td>0.003390</td>\n",
       "    </tr>\n",
       "    <tr>\n",
       "      <th>6</th>\n",
       "      <td>TabPFN-SQL</td>\n",
       "      <td>1308.625039</td>\n",
       "      <td>0.998662</td>\n",
       "      <td>0.987649</td>\n",
       "      <td>0.993125</td>\n",
       "      <td>0.000769</td>\n",
       "      <td>0.012351</td>\n",
       "    </tr>\n",
       "    <tr>\n",
       "      <th>7</th>\n",
       "      <td>TabPFN-XSS</td>\n",
       "      <td>586.418631</td>\n",
       "      <td>0.997961</td>\n",
       "      <td>0.995254</td>\n",
       "      <td>0.996606</td>\n",
       "      <td>0.002375</td>\n",
       "      <td>0.004746</td>\n",
       "    </tr>\n",
       "    <tr>\n",
       "      <th>8</th>\n",
       "      <td>XGBoost-SQL</td>\n",
       "      <td>0.023168</td>\n",
       "      <td>0.923264</td>\n",
       "      <td>0.668725</td>\n",
       "      <td>0.775646</td>\n",
       "      <td>0.032291</td>\n",
       "      <td>0.331275</td>\n",
       "    </tr>\n",
       "    <tr>\n",
       "      <th>9</th>\n",
       "      <td>XGBoost-XSS</td>\n",
       "      <td>0.030177</td>\n",
       "      <td>0.995035</td>\n",
       "      <td>0.951186</td>\n",
       "      <td>0.972617</td>\n",
       "      <td>0.005542</td>\n",
       "      <td>0.048814</td>\n",
       "    </tr>\n",
       "  </tbody>\n",
       "</table>\n",
       "</div>"
      ],
      "text/plain": [
       "              Model       Pred_s  Precision    Recall        F1       FPR  \\\n",
       "0      CatBoost-SQL     0.180626   0.999108  0.987649  0.993345  0.000513   \n",
       "1      CatBoost-XSS     0.138714   1.000000  0.995254  0.997621  0.000000   \n",
       "2           MLP-SQL     0.086967   0.999554  0.988090  0.993789  0.000256   \n",
       "3           MLP-XSS     0.056769   1.000000  0.999322  0.999661  0.000000   \n",
       "4  RandomForest-SQL     0.191674   0.999108  0.988531  0.993792  0.000513   \n",
       "5  RandomForest-XSS     0.098393   1.000000  0.996610  0.998302  0.000000   \n",
       "6        TabPFN-SQL  1308.625039   0.998662  0.987649  0.993125  0.000769   \n",
       "7        TabPFN-XSS   586.418631   0.997961  0.995254  0.996606  0.002375   \n",
       "8       XGBoost-SQL     0.023168   0.923264  0.668725  0.775646  0.032291   \n",
       "9       XGBoost-XSS     0.030177   0.995035  0.951186  0.972617  0.005542   \n",
       "\n",
       "        FNR  \n",
       "0  0.012351  \n",
       "1  0.004746  \n",
       "2  0.011910  \n",
       "3  0.000678  \n",
       "4  0.011469  \n",
       "5  0.003390  \n",
       "6  0.012351  \n",
       "7  0.004746  \n",
       "8  0.331275  \n",
       "9  0.048814  "
      ]
     },
     "metadata": {},
     "output_type": "display_data"
    },
    {
     "name": "stdout",
     "output_type": "stream",
     "text": [
      " Ergebnisse gespeichert: results_all.csv / results_all.xlsx\n"
     ]
    }
   ],
   "source": [
    "# Ergebnis-Tabelle ausgeben\n",
    "df_results = pd.DataFrame(results)\n",
    "display(df_results.sort_values([\"Model\"]).reset_index(drop=True))\n",
    "df_results.to_csv(\"results_all.csv\", index=False)\n",
    "with pd.ExcelWriter(\"results_all.xlsx\") as w:\n",
    "    df_results.to_excel(w, sheet_name=\"All\", index=False)\n",
    "print(\" Ergebnisse gespeichert: results_all.csv / results_all.xlsx\")"
   ]
  },
  {
   "cell_type": "markdown",
   "id": "716f721a",
   "metadata": {},
   "source": [
    "## Ergebnisse speichern"
   ]
  },
  {
   "cell_type": "markdown",
   "id": "d4caea88",
   "metadata": {},
   "source": [
    "## Ergebnistabelle"
   ]
  },
  {
   "cell_type": "code",
   "execution_count": 57,
   "id": "0360229e",
   "metadata": {},
   "outputs": [
    {
     "name": "stdout",
     "output_type": "stream",
     "text": [
      "\n",
      " Gesamt Ergebnisse: \n",
      "               Model       Pred_s  Precision    Recall        F1       FPR  \\\n",
      "3      CatBoost-SQL     0.180626   0.999108  0.987649  0.993345  0.000513   \n",
      "8      CatBoost-XSS     0.138714   1.000000  0.995254  0.997621  0.000000   \n",
      "1           MLP-SQL     0.086967   0.999554  0.988090  0.993789  0.000256   \n",
      "6           MLP-XSS     0.056769   1.000000  0.999322  0.999661  0.000000   \n",
      "0  RandomForest-SQL     0.191674   0.999108  0.988531  0.993792  0.000513   \n",
      "5  RandomForest-XSS     0.098393   1.000000  0.996610  0.998302  0.000000   \n",
      "4        TabPFN-SQL  1308.625039   0.998662  0.987649  0.993125  0.000769   \n",
      "9        TabPFN-XSS   586.418631   0.997961  0.995254  0.996606  0.002375   \n",
      "2       XGBoost-SQL     0.023168   0.923264  0.668725  0.775646  0.032291   \n",
      "7       XGBoost-XSS     0.030177   0.995035  0.951186  0.972617  0.005542   \n",
      "\n",
      "        FNR  \n",
      "3  0.012351  \n",
      "8  0.004746  \n",
      "1  0.011910  \n",
      "6  0.000678  \n",
      "0  0.011469  \n",
      "5  0.003390  \n",
      "4  0.012351  \n",
      "9  0.004746  \n",
      "2  0.331275  \n",
      "7  0.048814  \n"
     ]
    }
   ],
   "source": [
    "results_df = pd.DataFrame(results)\n",
    "results_df.sort_values([\"Model\"], inplace=True)\n",
    "print(\"\\n Gesamt Ergebnisse: \\n\", results_df)\n",
    "\n",
    "results_df.to_csv(\"results.csv\", index=False)"
   ]
  },
  {
   "cell_type": "markdown",
   "id": "824c2ae6",
   "metadata": {},
   "source": [
    "# Hyperparameter-Tuning & Cross-Validation"
   ]
  },
  {
   "cell_type": "code",
   "execution_count": 58,
   "id": "6085f238",
   "metadata": {},
   "outputs": [],
   "source": [
    "from sklearn.experimental import enable_halving_search_cv  # noqa\n",
    "from sklearn.model_selection import (\n",
    "    HalvingRandomSearchCV, train_test_split, StratifiedKFold, StratifiedShuffleSplit, RandomizedSearchCV)\n",
    "from joblib import Memory"
   ]
  },
  {
   "cell_type": "markdown",
   "id": "d00ff0c4",
   "metadata": {},
   "source": [
    "## Feature und Modelle"
   ]
  },
  {
   "cell_type": "code",
   "execution_count": 59,
   "id": "4d23aefd",
   "metadata": {},
   "outputs": [],
   "source": [
    "# Feature-Builder (schnell & schlank)\n",
    "\n",
    "def make_tfidf(max_features=20_000):\n",
    "    return TfidfVectorizer(\n",
    "        analyzer=\"char\", ngram_range=(3,5),\n",
    "        min_df=3, max_features=max_features,\n",
    "        sublinear_tf=True, lowercase=False,\n",
    "        dtype=np.float32\n",
    "    )\n",
    "\n",
    "# Cache, damit TF-IDF/SVD nicht in jedem Kandidaten neu gelernt werden müssen\n",
    "memory = Memory(location=\"skcache\", verbose=0)\n",
    "\n",
    "\n",
    "#schlanke Suchräume\n",
    "def pos_weight(y):\n",
    "    pos = max(1, int(np.sum(y))); neg = max(1, int(len(y)-pos))\n",
    "    return neg / pos\n",
    "\n",
    "def grids(y):\n",
    "    return {\n",
    "        \"RF\": {\n",
    "            \"svd__n_components\": [120, 150, 200],\n",
    "            \"clf__n_estimators\": [300, 600],\n",
    "            \"clf__max_depth\": [None, 20, 40],\n",
    "            \"clf__min_samples_split\": [2, 5, 10],\n",
    "            \"clf__max_features\": [\"sqrt\", None],\n",
    "        },\n",
    "        \"MLP\": {\n",
    "            \"svd__n_components\": [120, 150, 200],\n",
    "            \"clf__hidden_layer_sizes\": [(256,128), (512,256)],\n",
    "            \"clf__alpha\": np.logspace(-5, -3, 3),\n",
    "            \"clf__learning_rate_init\": [1e-4, 5e-4, 1e-3],\n",
    "            \"clf__batch_size\": [64, 128],\n",
    "        },\n",
    "        \"XGB\": {\n",
    "            \"tfidf__max_features\": [15_000, 20_000],\n",
    "            \"clf__n_estimators\": [300, 500],\n",
    "            \"clf__max_depth\": [4, 6, 8],\n",
    "            \"clf__learning_rate\": [0.05, 0.1],\n",
    "            \"clf__subsample\": [0.7, 1.0],\n",
    "            \"clf__colsample_bytree\": [0.6, 1.0],\n",
    "            \"clf__reg_lambda\": [0, 5],\n",
    "            \"clf__gamma\": [0, 1],\n",
    "            \"clf__scale_pos_weight\": [pos_weight(y)],\n",
    "        },\n",
    "        \"CAT\": {\n",
    "            \"tfidf__max_features\": [15_000, 20_000],\n",
    "            \"clf__iterations\": [400, 800],\n",
    "            \"clf__depth\": [6, 8],\n",
    "            \"clf__learning_rate\": [0.05, 0.1],\n",
    "            \"clf__l2_leaf_reg\": [3, 5],\n",
    "        }\n",
    "    }\n"
   ]
  },
  {
   "cell_type": "markdown",
   "id": "561609f2",
   "metadata": {},
   "source": [
    "## Pipeline"
   ]
  },
  {
   "cell_type": "code",
   "execution_count": 60,
   "id": "a8526a83",
   "metadata": {},
   "outputs": [],
   "source": [
    "\n",
    "def get_hpo_subset(X, y, n=8000):\n",
    "    \"\"\"Erzeugt ein stratifiziertes Subset für HPO.\"\"\"\n",
    "    if len(y) <= n:\n",
    "        return X, y\n",
    "    sss = StratifiedShuffleSplit(n_splits=1, train_size=n, random_state=RANDOM_STATE)\n",
    "    idx, _ = next(sss.split(np.zeros(len(y)), y))\n",
    "    if hasattr(X, \"iloc\"):  # DataFrame oder Series\n",
    "        return X.iloc[idx], np.asarray(y)[idx]\n",
    "    else:\n",
    "        return X[idx], np.asarray(y)[idx]\n"
   ]
  },
  {
   "cell_type": "code",
   "execution_count": 61,
   "id": "179409dd",
   "metadata": {},
   "outputs": [],
   "source": [
    "def plot_results(results_df, title=\"Modellevaluation\", metric=\"F1\"):\n",
    "    \"\"\"Zeigt die Ergebnisse als Balkendiagramm an.\"\"\"\n",
    "    plt.figure(figsize=(12, 6))\n",
    "    results_df.sort_values(by=metric, ascending=False).plot(\n",
    "        x=\"Model\", y=metric, kind=\"bar\", legend=False, color=\"skyblue\"\n",
    "    )\n",
    "    plt.title(title)\n",
    "    plt.xlabel(\"Modelle\")\n",
    "    plt.ylabel(metric)\n",
    "    plt.xticks(rotation=45)\n",
    "    plt.grid(axis='y')\n",
    "    plt.tight_layout()\n",
    "    plt.show()"
   ]
  },
  {
   "cell_type": "code",
   "execution_count": 62,
   "id": "5b5f4bfc",
   "metadata": {},
   "outputs": [],
   "source": [
    "#Pipelines\n",
    "def pipe_rf_svd(max_features=20_000, n_comp=150):\n",
    "    return Pipeline([\n",
    "        (\"tfidf\", make_tfidf(max_features)),\n",
    "        (\"svd\", TruncatedSVD(n_components=n_comp, random_state=RANDOM_STATE)),\n",
    "        (\"clf\", RandomForestClassifier(n_jobs=-1, random_state=RANDOM_STATE))\n",
    "    ], memory=memory)\n",
    "\n",
    "def pipe_mlp_svd(max_features=20_000, n_comp=150):\n",
    "    return Pipeline([\n",
    "        (\"tfidf\", make_tfidf(max_features)),\n",
    "        (\"svd\", TruncatedSVD(n_components=n_comp, random_state=RANDOM_STATE)),\n",
    "        (\"scaler\", StandardScaler(with_mean=True)),\n",
    "        (\"clf\", MLPClassifier(\n",
    "            early_stopping=True, n_iter_no_change=8, max_iter=200,\n",
    "            random_state=RANDOM_STATE\n",
    "        ))\n",
    "    ], memory=memory)\n",
    "\n",
    "def pipe_xgb_sparse(max_features=20_000):\n",
    "    return Pipeline([\n",
    "        (\"tfidf\", make_tfidf(max_features)),\n",
    "        (\"clf\", XGBClassifier(\n",
    "            tree_method=\"hist\",\n",
    "            device=(\"cuda\" if USE_CUDA else \"cpu\"),\n",
    "            n_estimators=400,\n",
    "            random_state=RANDOM_STATE,\n",
    "            n_jobs=1  # Parallelisierung über CV, nicht im Estimator\n",
    "        ))\n",
    "    ], memory=memory)\n",
    "\n",
    "def pipe_cat_sparse(max_features=20_000):\n",
    "    return Pipeline([\n",
    "        (\"tfidf\", make_tfidf(max_features)),\n",
    "        (\"clf\", CatBoostClassifier(\n",
    "            loss_function=\"Logloss\",\n",
    "            verbose=False,\n",
    "            random_seed=RANDOM_STATE\n",
    "        ))\n",
    "    ], memory=memory)"
   ]
  },
  {
   "cell_type": "code",
   "execution_count": 63,
   "id": "19503d9b",
   "metadata": {},
   "outputs": [
    {
     "name": "stdout",
     "output_type": "stream",
     "text": [
      "\n",
      "============================================================\n",
      "TUNING: RandomForest (SQL)\n",
      "n_iterations: 2\n",
      "n_required_iterations: 2\n",
      "n_possible_iterations: 2\n",
      "min_resources_: 1200\n",
      "max_resources_: 8000\n",
      "aggressive_elimination: False\n",
      "factor: 3\n",
      "----------\n",
      "iter: 0\n",
      "n_candidates: 6\n",
      "n_resources: 1200\n",
      "Fitting 2 folds for each of 6 candidates, totalling 12 fits\n",
      "----------\n",
      "iter: 1\n",
      "n_candidates: 2\n",
      "n_resources: 3600\n",
      "Fitting 2 folds for each of 2 candidates, totalling 4 fits\n",
      "[RF] best F1 (CV): 0.9907 in 0.5 min\n",
      "[RF] best params: {'svd__n_components': 150, 'clf__n_estimators': 600, 'clf__min_samples_split': 2, 'clf__max_features': 'sqrt', 'clf__max_depth': None}\n"
     ]
    },
    {
     "data": {
      "image/png": "[encoded data removed]",
      "text/plain": [
       "<Figure size 800x600 with 2 Axes>"
      ]
     },
     "metadata": {},
     "output_type": "display_data"
    },
    {
     "name": "stdout",
     "output_type": "stream",
     "text": [
      "TEST: {'Model': 'RandomForest-SQL', 'Thr': 0.26, 'Precision': 0.9968888888888889, 'Recall': 0.9894133215703573, 'F1': 0.9931370378569847, 'FPR': 0.0017939518195797027, 'FNR': 0.0105866784296427}\n",
      "\n",
      "============================================================\n",
      "TUNING: MLP (SQL)\n",
      "n_iterations: 2\n",
      "n_required_iterations: 2\n",
      "n_possible_iterations: 2\n",
      "min_resources_: 1200\n",
      "max_resources_: 8000\n",
      "aggressive_elimination: False\n",
      "factor: 3\n",
      "----------\n",
      "iter: 0\n",
      "n_candidates: 6\n",
      "n_resources: 1200\n",
      "Fitting 2 folds for each of 6 candidates, totalling 12 fits\n",
      "----------\n",
      "iter: 1\n",
      "n_candidates: 2\n",
      "n_resources: 3600\n",
      "Fitting 2 folds for each of 2 candidates, totalling 4 fits\n",
      "[MLP] best F1 (CV): 0.9877 in 0.3 min\n",
      "[MLP] best params: {'svd__n_components': 200, 'clf__learning_rate_init': 0.0001, 'clf__hidden_layer_sizes': (512, 256), 'clf__batch_size': 64, 'clf__alpha': np.float64(0.001)}\n"
     ]
    },
    {
     "data": {
      "image/png": "[encoded data removed]",
      "text/plain": [
       "<Figure size 800x600 with 2 Axes>"
      ]
     },
     "metadata": {},
     "output_type": "display_data"
    },
    {
     "name": "stdout",
     "output_type": "stream",
     "text": [
      "TEST: {'Model': 'MLP-SQL', 'Thr': 0.16, 'Precision': 0.9977748108589231, 'Recall': 0.9889722099691222, 'F1': 0.9933540097474524, 'FPR': 0.0012813941568426447, 'FNR': 0.011027790030877812}\n",
      "\n",
      "============================================================\n",
      "TUNING: XGBoost (SQL)\n",
      "n_iterations: 2\n",
      "n_required_iterations: 2\n",
      "n_possible_iterations: 2\n",
      "min_resources_: 1200\n",
      "max_resources_: 8000\n",
      "aggressive_elimination: False\n",
      "factor: 3\n",
      "----------\n",
      "iter: 0\n",
      "n_candidates: 6\n",
      "n_resources: 1200\n",
      "Fitting 2 folds for each of 6 candidates, totalling 12 fits\n"
     ]
    },
    {
     "name": "stderr",
     "output_type": "stream",
     "text": [
      "c:\\Users\\nilsp\\Github_Desktop\\Comparative_Study_ML_WebVuln\\.venv\\Lib\\site-packages\\joblib\\externals\\loky\\process_executor.py:782: UserWarning: A worker stopped while some jobs were given to the executor. This can be caused by a too short worker timeout or by a memory leak.\n",
      "  warnings.warn(\n"
     ]
    },
    {
     "name": "stdout",
     "output_type": "stream",
     "text": [
      "----------\n",
      "iter: 1\n",
      "n_candidates: 2\n",
      "n_resources: 3600\n",
      "Fitting 2 folds for each of 2 candidates, totalling 4 fits\n",
      "[XGB] best F1 (CV): 0.9571 in 1.6 min\n",
      "[XGB] best params: {'tfidf__max_features': 15000, 'clf__subsample': 0.7, 'clf__scale_pos_weight': 1.7210884353741496, 'clf__reg_lambda': 5, 'clf__n_estimators': 300, 'clf__max_depth': 8, 'clf__learning_rate': 0.1, 'clf__gamma': 1, 'clf__colsample_bytree': 1.0}\n"
     ]
    },
    {
     "data": {
      "image/png": "[encoded data removed]",
      "text/plain": [
       "<Figure size 800x600 with 2 Axes>"
      ]
     },
     "metadata": {},
     "output_type": "display_data"
    },
    {
     "name": "stdout",
     "output_type": "stream",
     "text": [
      "TEST: {'Model': 'XGBoost-SQL', 'Thr': 0.31, 'Precision': 0.6269610691458455, 'Recall': 0.9519188354653727, 'F1': 0.7559992993519005, 'FPR': 0.32906201947719116, 'FNR': 0.04808116453462726}\n",
      "\n",
      "============================================================\n",
      "TUNING: CatBoost (SQL)\n",
      "n_iterations: 2\n",
      "n_required_iterations: 2\n",
      "n_possible_iterations: 2\n",
      "min_resources_: 1200\n",
      "max_resources_: 8000\n",
      "aggressive_elimination: False\n",
      "factor: 3\n",
      "----------\n",
      "iter: 0\n",
      "n_candidates: 6\n",
      "n_resources: 1200\n",
      "Fitting 2 folds for each of 6 candidates, totalling 12 fits\n",
      "----------\n",
      "iter: 1\n",
      "n_candidates: 2\n",
      "n_resources: 3600\n",
      "Fitting 2 folds for each of 2 candidates, totalling 4 fits\n",
      "[CAT] best F1 (CV): 0.9922 in 11.8 min\n",
      "[CAT] best params: {'tfidf__max_features': 20000, 'clf__learning_rate': 0.1, 'clf__l2_leaf_reg': 5, 'clf__iterations': 800, 'clf__depth': 6}\n"
     ]
    },
    {
     "data": {
      "image/png": "[encoded data removed]",
      "text/plain": [
       "<Figure size 800x600 with 2 Axes>"
      ]
     },
     "metadata": {},
     "output_type": "display_data"
    },
    {
     "name": "stdout",
     "output_type": "stream",
     "text": [
      "TEST: {'Model': 'CatBoost-SQL', 'Thr': 0.32, 'Precision': 0.9973285841495992, 'Recall': 0.9880899867666519, 'F1': 0.9926877908265013, 'FPR': 0.0015376729882111738, 'FNR': 0.011910013233348038}\n",
      "\n",
      "============================================================\n",
      "TUNING: RandomForest (XSS)\n",
      "n_iterations: 2\n",
      "n_required_iterations: 2\n",
      "n_possible_iterations: 2\n",
      "min_resources_: 1200\n",
      "max_resources_: 8000\n",
      "aggressive_elimination: False\n",
      "factor: 3\n",
      "----------\n",
      "iter: 0\n",
      "n_candidates: 6\n",
      "n_resources: 1200\n",
      "Fitting 2 folds for each of 6 candidates, totalling 12 fits\n",
      "----------\n",
      "iter: 1\n",
      "n_candidates: 2\n",
      "n_resources: 3600\n",
      "Fitting 2 folds for each of 2 candidates, totalling 4 fits\n",
      "[RF] best F1 (CV): 0.9914 in 0.6 min\n",
      "[RF] best params: {'svd__n_components': 150, 'clf__n_estimators': 300, 'clf__min_samples_split': 10, 'clf__max_features': None, 'clf__max_depth': 20}\n"
     ]
    },
    {
     "data": {
      "image/png": "[encoded data removed]",
      "text/plain": [
       "<Figure size 800x600 with 2 Axes>"
      ]
     },
     "metadata": {},
     "output_type": "display_data"
    },
    {
     "name": "stdout",
     "output_type": "stream",
     "text": [
      "TEST: {'Model': 'RandomForest-XSS', 'Thr': 0.44000000000000006, 'Precision': 0.9993188010899182, 'Recall': 0.9945762711864407, 'F1': 0.9969418960244648, 'FPR': 0.000791765637371338, 'FNR': 0.005423728813559322}\n",
      "\n",
      "============================================================\n",
      "TUNING: MLP (XSS)\n",
      "n_iterations: 2\n",
      "n_required_iterations: 2\n",
      "n_possible_iterations: 2\n",
      "min_resources_: 1200\n",
      "max_resources_: 8000\n",
      "aggressive_elimination: False\n",
      "factor: 3\n",
      "----------\n",
      "iter: 0\n",
      "n_candidates: 6\n",
      "n_resources: 1200\n",
      "Fitting 2 folds for each of 6 candidates, totalling 12 fits\n",
      "----------\n",
      "iter: 1\n",
      "n_candidates: 2\n",
      "n_resources: 3600\n",
      "Fitting 2 folds for each of 2 candidates, totalling 4 fits\n",
      "[MLP] best F1 (CV): 0.9953 in 0.3 min\n",
      "[MLP] best params: {'svd__n_components': 150, 'clf__learning_rate_init': 0.0005, 'clf__hidden_layer_sizes': (512, 256), 'clf__batch_size': 128, 'clf__alpha': np.float64(0.0001)}\n"
     ]
    },
    {
     "data": {
      "image/png": "[encoded data removed]",
      "text/plain": [
       "<Figure size 800x600 with 2 Axes>"
      ]
     },
     "metadata": {},
     "output_type": "display_data"
    },
    {
     "name": "stdout",
     "output_type": "stream",
     "text": [
      "TEST: {'Model': 'MLP-XSS', 'Thr': 0.29000000000000004, 'Precision': 0.9979633401221996, 'Recall': 0.9966101694915255, 'F1': 0.9972862957937585, 'FPR': 0.0023752969121140144, 'FNR': 0.003389830508474576}\n",
      "\n",
      "============================================================\n",
      "TUNING: XGBoost (XSS)\n",
      "n_iterations: 2\n",
      "n_required_iterations: 2\n",
      "n_possible_iterations: 2\n",
      "min_resources_: 1200\n",
      "max_resources_: 8000\n",
      "aggressive_elimination: False\n",
      "factor: 3\n",
      "----------\n",
      "iter: 0\n",
      "n_candidates: 6\n",
      "n_resources: 1200\n",
      "Fitting 2 folds for each of 6 candidates, totalling 12 fits\n"
     ]
    },
    {
     "name": "stderr",
     "output_type": "stream",
     "text": [
      "c:\\Users\\nilsp\\Github_Desktop\\Comparative_Study_ML_WebVuln\\.venv\\Lib\\site-packages\\joblib\\externals\\loky\\process_executor.py:782: UserWarning: A worker stopped while some jobs were given to the executor. This can be caused by a too short worker timeout or by a memory leak.\n",
      "  warnings.warn(\n"
     ]
    },
    {
     "name": "stdout",
     "output_type": "stream",
     "text": [
      "----------\n",
      "iter: 1\n",
      "n_candidates: 2\n",
      "n_resources: 3600\n",
      "Fitting 2 folds for each of 2 candidates, totalling 4 fits\n",
      "[XGB] best F1 (CV): 0.9819 in 1.6 min\n",
      "[XGB] best params: {'tfidf__max_features': 15000, 'clf__subsample': 0.7, 'clf__scale_pos_weight': 0.8561484918793504, 'clf__reg_lambda': 5, 'clf__n_estimators': 500, 'clf__max_depth': 6, 'clf__learning_rate': 0.1, 'clf__gamma': 0, 'clf__colsample_bytree': 1.0}\n"
     ]
    },
    {
     "data": {
      "image/png": "[encoded data removed]",
      "text/plain": [
       "<Figure size 800x600 with 2 Axes>"
      ]
     },
     "metadata": {},
     "output_type": "display_data"
    },
    {
     "name": "stdout",
     "output_type": "stream",
     "text": [
      "TEST: {'Model': 'XGBoost-XSS', 'Thr': 0.9, 'Precision': 0.9783637592968222, 'Recall': 0.9810169491525423, 'F1': 0.97968855788761, 'FPR': 0.025336500395882817, 'FNR': 0.018983050847457626}\n",
      "\n",
      "============================================================\n",
      "TUNING: CatBoost (XSS)\n",
      "n_iterations: 2\n",
      "n_required_iterations: 2\n",
      "n_possible_iterations: 2\n",
      "min_resources_: 1200\n",
      "max_resources_: 8000\n",
      "aggressive_elimination: False\n",
      "factor: 3\n",
      "----------\n",
      "iter: 0\n",
      "n_candidates: 6\n",
      "n_resources: 1200\n",
      "Fitting 2 folds for each of 6 candidates, totalling 12 fits\n",
      "----------\n",
      "iter: 1\n",
      "n_candidates: 2\n",
      "n_resources: 3600\n",
      "Fitting 2 folds for each of 2 candidates, totalling 4 fits\n",
      "[CAT] best F1 (CV): 0.9945 in 18.9 min\n",
      "[CAT] best params: {'tfidf__max_features': 15000, 'clf__learning_rate': 0.05, 'clf__l2_leaf_reg': 3, 'clf__iterations': 800, 'clf__depth': 6}\n"
     ]
    },
    {
     "data": {
      "image/png": "[encoded data removed]",
      "text/plain": [
       "<Figure size 800x600 with 2 Axes>"
      ]
     },
     "metadata": {},
     "output_type": "display_data"
    },
    {
     "name": "stdout",
     "output_type": "stream",
     "text": [
      "TEST: {'Model': 'CatBoost-XSS', 'Thr': 0.21000000000000002, 'Precision': 1.0, 'Recall': 0.9979661016949153, 'F1': 0.9989820156090939, 'FPR': 0.0, 'FNR': 0.002033898305084746}\n"
     ]
    },
    {
     "data": {
      "text/html": [
       "<div>\n",
       "<style scoped>\n",
       "    .dataframe tbody tr th:only-of-type {\n",
       "        vertical-align: middle;\n",
       "    }\n",
       "\n",
       "    .dataframe tbody tr th {\n",
       "        vertical-align: top;\n",
       "    }\n",
       "\n",
       "    .dataframe thead th {\n",
       "        text-align: right;\n",
       "    }\n",
       "</style>\n",
       "<table border=\"1\" class=\"dataframe\">\n",
       "  <thead>\n",
       "    <tr style=\"text-align: right;\">\n",
       "      <th></th>\n",
       "      <th>Model</th>\n",
       "      <th>Thr</th>\n",
       "      <th>Precision</th>\n",
       "      <th>Recall</th>\n",
       "      <th>F1</th>\n",
       "      <th>FPR</th>\n",
       "      <th>FNR</th>\n",
       "    </tr>\n",
       "  </thead>\n",
       "  <tbody>\n",
       "    <tr>\n",
       "      <th>0</th>\n",
       "      <td>RandomForest-SQL</td>\n",
       "      <td>0.26</td>\n",
       "      <td>0.996889</td>\n",
       "      <td>0.989413</td>\n",
       "      <td>0.993137</td>\n",
       "      <td>0.001794</td>\n",
       "      <td>0.010587</td>\n",
       "    </tr>\n",
       "    <tr>\n",
       "      <th>1</th>\n",
       "      <td>MLP-SQL</td>\n",
       "      <td>0.16</td>\n",
       "      <td>0.997775</td>\n",
       "      <td>0.988972</td>\n",
       "      <td>0.993354</td>\n",
       "      <td>0.001281</td>\n",
       "      <td>0.011028</td>\n",
       "    </tr>\n",
       "    <tr>\n",
       "      <th>2</th>\n",
       "      <td>XGBoost-SQL</td>\n",
       "      <td>0.31</td>\n",
       "      <td>0.626961</td>\n",
       "      <td>0.951919</td>\n",
       "      <td>0.755999</td>\n",
       "      <td>0.329062</td>\n",
       "      <td>0.048081</td>\n",
       "    </tr>\n",
       "    <tr>\n",
       "      <th>3</th>\n",
       "      <td>CatBoost-SQL</td>\n",
       "      <td>0.32</td>\n",
       "      <td>0.997329</td>\n",
       "      <td>0.988090</td>\n",
       "      <td>0.992688</td>\n",
       "      <td>0.001538</td>\n",
       "      <td>0.011910</td>\n",
       "    </tr>\n",
       "  </tbody>\n",
       "</table>\n",
       "</div>"
      ],
      "text/plain": [
       "              Model   Thr  Precision    Recall        F1       FPR       FNR\n",
       "0  RandomForest-SQL  0.26   0.996889  0.989413  0.993137  0.001794  0.010587\n",
       "1           MLP-SQL  0.16   0.997775  0.988972  0.993354  0.001281  0.011028\n",
       "2       XGBoost-SQL  0.31   0.626961  0.951919  0.755999  0.329062  0.048081\n",
       "3      CatBoost-SQL  0.32   0.997329  0.988090  0.992688  0.001538  0.011910"
      ]
     },
     "metadata": {},
     "output_type": "display_data"
    },
    {
     "data": {
      "text/html": [
       "<div>\n",
       "<style scoped>\n",
       "    .dataframe tbody tr th:only-of-type {\n",
       "        vertical-align: middle;\n",
       "    }\n",
       "\n",
       "    .dataframe tbody tr th {\n",
       "        vertical-align: top;\n",
       "    }\n",
       "\n",
       "    .dataframe thead th {\n",
       "        text-align: right;\n",
       "    }\n",
       "</style>\n",
       "<table border=\"1\" class=\"dataframe\">\n",
       "  <thead>\n",
       "    <tr style=\"text-align: right;\">\n",
       "      <th></th>\n",
       "      <th>Model</th>\n",
       "      <th>Thr</th>\n",
       "      <th>Precision</th>\n",
       "      <th>Recall</th>\n",
       "      <th>F1</th>\n",
       "      <th>FPR</th>\n",
       "      <th>FNR</th>\n",
       "    </tr>\n",
       "  </thead>\n",
       "  <tbody>\n",
       "    <tr>\n",
       "      <th>0</th>\n",
       "      <td>RandomForest-XSS</td>\n",
       "      <td>0.44</td>\n",
       "      <td>0.999319</td>\n",
       "      <td>0.994576</td>\n",
       "      <td>0.996942</td>\n",
       "      <td>0.000792</td>\n",
       "      <td>0.005424</td>\n",
       "    </tr>\n",
       "    <tr>\n",
       "      <th>1</th>\n",
       "      <td>MLP-XSS</td>\n",
       "      <td>0.29</td>\n",
       "      <td>0.997963</td>\n",
       "      <td>0.996610</td>\n",
       "      <td>0.997286</td>\n",
       "      <td>0.002375</td>\n",
       "      <td>0.003390</td>\n",
       "    </tr>\n",
       "    <tr>\n",
       "      <th>2</th>\n",
       "      <td>XGBoost-XSS</td>\n",
       "      <td>0.90</td>\n",
       "      <td>0.978364</td>\n",
       "      <td>0.981017</td>\n",
       "      <td>0.979689</td>\n",
       "      <td>0.025337</td>\n",
       "      <td>0.018983</td>\n",
       "    </tr>\n",
       "    <tr>\n",
       "      <th>3</th>\n",
       "      <td>CatBoost-XSS</td>\n",
       "      <td>0.21</td>\n",
       "      <td>1.000000</td>\n",
       "      <td>0.997966</td>\n",
       "      <td>0.998982</td>\n",
       "      <td>0.000000</td>\n",
       "      <td>0.002034</td>\n",
       "    </tr>\n",
       "  </tbody>\n",
       "</table>\n",
       "</div>"
      ],
      "text/plain": [
       "              Model   Thr  Precision    Recall        F1       FPR       FNR\n",
       "0  RandomForest-XSS  0.44   0.999319  0.994576  0.996942  0.000792  0.005424\n",
       "1           MLP-XSS  0.29   0.997963  0.996610  0.997286  0.002375  0.003390\n",
       "2       XGBoost-XSS  0.90   0.978364  0.981017  0.979689  0.025337  0.018983\n",
       "3      CatBoost-XSS  0.21   1.000000  0.997966  0.998982  0.000000  0.002034"
      ]
     },
     "metadata": {},
     "output_type": "display_data"
    },
    {
     "data": {
      "text/plain": [
       "<Figure size 1200x600 with 0 Axes>"
      ]
     },
     "metadata": {},
     "output_type": "display_data"
    },
    {
     "data": {
      "image/png": "[encoded data removed]",
      "text/plain": [
       "<Figure size 640x480 with 1 Axes>"
      ]
     },
     "metadata": {},
     "output_type": "display_data"
    },
    {
     "data": {
      "text/plain": [
       "<Figure size 1200x600 with 0 Axes>"
      ]
     },
     "metadata": {},
     "output_type": "display_data"
    },
    {
     "data": {
      "image/png": "[encoded data removed]",
      "text/plain": [
       "<Figure size 640x480 with 1 Axes>"
      ]
     },
     "metadata": {},
     "output_type": "display_data"
    }
   ],
   "source": [
    "from sklearn.model_selection import StratifiedKFold\n",
    "from sklearn.metrics import make_scorer, f1_score\n",
    "\n",
    "# Gemeinsames CV-Objekt für faire Vergleiche\n",
    "cv_shared = StratifiedKFold(n_splits=2, shuffle=True, random_state=RANDOM_STATE)\n",
    "\n",
    "# Hilfsfunktion für Hyperparameter-Suche\n",
    "def make_search(estimator, param_distributions, y_train, use_halving=True, cv=None):\n",
    "    if cv is None:\n",
    "        cv = StratifiedKFold(n_splits=2, shuffle=True, random_state=RANDOM_STATE)\n",
    "    scorer = make_scorer(f1_score)\n",
    "    if use_halving:\n",
    "        n = len(y_train)\n",
    "        min_res = max(200, int(0.15 * n))\n",
    "        return HalvingRandomSearchCV(\n",
    "            estimator=estimator,\n",
    "            param_distributions=param_distributions,\n",
    "            resource=\"n_samples\",\n",
    "            min_resources=min_res,\n",
    "            max_resources=\"auto\",\n",
    "            factor=3,\n",
    "            scoring=scorer,\n",
    "            cv=cv,\n",
    "            random_state=RANDOM_STATE,\n",
    "            n_jobs=2,\n",
    "            verbose=2\n",
    "        )\n",
    "    else:\n",
    "        return RandomizedSearchCV(\n",
    "            estimator=estimator,\n",
    "            param_distributions=param_distributions,\n",
    "            n_iter=10,\n",
    "            scoring=scorer,\n",
    "            cv=cv,\n",
    "            random_state=RANDOM_STATE,\n",
    "            n_jobs=2,\n",
    "            verbose=2\n",
    "        )\n",
    "\n",
    "# Training + Suche + Refit + Threshold\n",
    "def tune_one(name, X_train_txt, y_train, cv):\n",
    "    if name == \"RF\":   pipe = pipe_rf_svd()\n",
    "    elif name == \"MLP\": pipe = pipe_mlp_svd()\n",
    "    elif name == \"XGB\": pipe = pipe_xgb_sparse()\n",
    "    elif name == \"CAT\": pipe = pipe_cat_sparse()\n",
    "    else: raise ValueError(name)\n",
    "\n",
    "    # Teilmenge für HPO\n",
    "    X_hpo, y_hpo = get_hpo_subset(X_train_txt, y_train, n=8000)\n",
    "    space = grids(y_hpo)[name]\n",
    "    search = make_search(pipe, space, y_hpo, use_halving=True, cv=cv)\n",
    "\n",
    "    t0 = time.perf_counter()\n",
    "    search.fit(X_hpo, y_hpo)\n",
    "    dt = time.perf_counter() - t0\n",
    "    print(f\"[{name}] best F1 (CV): {search.best_score_:.4f} in {dt/60:.1f} min\")\n",
    "    print(f\"[{name}] best params:\", search.best_params_)\n",
    "\n",
    "    best = clone(search.best_estimator_)\n",
    "    best.fit(X_train_txt, y_train)\n",
    "    return best, search.best_params_, search.best_score_, dt\n",
    "\n",
    "# Threshold-Optimierung + Testauswertung\n",
    "def eval_on_test(name, est, X_train_txt, y_train, X_test_txt, y_test, tune_threshold=True):\n",
    "    thr = 0.5\n",
    "    if tune_threshold and hasattr(est, \"predict_proba\"):\n",
    "        X_tr2, X_val, y_tr2, y_val = train_test_split(X_train_txt, y_train, test_size=0.15, stratify=y_train, random_state=RANDOM_STATE)\n",
    "        est_for_thr = est\n",
    "        est_for_thr.fit(X_tr2, y_tr2)\n",
    "        p = est_for_thr.predict_proba(X_val)[:, 1]\n",
    "        grid = np.linspace(0.1, 0.9, 81)\n",
    "        thr = float(grid[int(np.argmax([f1_score(y_val, (p >= t).astype(int)) for t in grid]))])\n",
    "\n",
    "    y_pred = (est.predict_proba(X_test_txt)[:,1] >= thr).astype(int) if hasattr(est, \"predict_proba\") else est.predict(X_test_txt)\n",
    "    plot_confusion_matrix(y_test, y_pred, labels=[0, 1], title=f\"Confusion Matrix {name} (Thr={thr:.2f})\")\n",
    "    p, r, f1, _ = precision_recall_fscore_support(y_test, y_pred, average=\"binary\", zero_division=0)\n",
    "    tn, fp, fn, tp = confusion_matrix(y_test, y_pred).ravel()\n",
    "    fpr = float(fp / (fp + tn)) if (fp + tn) else 0.0\n",
    "    fnr = float(fn / (fn + tp)) if (fn + tp) else 0.0\n",
    "    return dict(Model=name, Thr=thr, Precision=p, Recall=r, F1=f1, FPR=fpr, FNR=fnr)\n",
    "\n",
    "# Ausführung mit übergebenem Split\n",
    "def run_fast_from_split(X_train_txt, X_test_txt, y_train, y_test, ds_name, cv):\n",
    "    results = []\n",
    "    for short, label in [(\"RF\", \"RandomForest\"), (\"MLP\", \"MLP\"), (\"XGB\", \"XGBoost\"), (\"CAT\", \"CatBoost\")]:\n",
    "        print(\"\\n\" + \"=\" * 60)\n",
    "        print(f\"TUNING: {label} ({ds_name})\")\n",
    "        best_est, params, best_cv, dt = tune_one(short, X_train_txt, y_train, cv=cv)\n",
    "        res = eval_on_test(f\"{label}-{ds_name}\", best_est, X_train_txt, y_train, X_test_txt, y_test)\n",
    "        print(\"TEST:\", res)\n",
    "        results.append(res)\n",
    "    return pd.DataFrame(results)\n",
    "\n",
    "# Anwendung auf beide Datensätze\n",
    "sql_res = run_fast_from_split(X_train_sql, X_test_sql, y_train_sql, y_test_sql, ds_name=\"SQL\", cv=cv_shared)\n",
    "xss_res = run_fast_from_split(X_train_xss, X_test_xss, y_train_xss, y_test_xss, ds_name=\"XSS\", cv=cv_shared)\n",
    "\n",
    "display(sql_res)\n",
    "display(xss_res)\n",
    "plot_results(sql_res, title=\"SQL Modellevaluation\", metric=\"F1\")\n",
    "plot_results(xss_res, title=\"XSS Modellevaluation\", metric=\"F1\")"
   ]
  },
  {
   "cell_type": "code",
   "execution_count": 64,
   "id": "589bdf55",
   "metadata": {},
   "outputs": [
    {
     "data": {
      "text/html": [
       "<div>\n",
       "<style scoped>\n",
       "    .dataframe tbody tr th:only-of-type {\n",
       "        vertical-align: middle;\n",
       "    }\n",
       "\n",
       "    .dataframe tbody tr th {\n",
       "        vertical-align: top;\n",
       "    }\n",
       "\n",
       "    .dataframe thead th {\n",
       "        text-align: right;\n",
       "    }\n",
       "</style>\n",
       "<table border=\"1\" class=\"dataframe\">\n",
       "  <thead>\n",
       "    <tr style=\"text-align: right;\">\n",
       "      <th></th>\n",
       "      <th>Model</th>\n",
       "      <th>Thr</th>\n",
       "      <th>Precision</th>\n",
       "      <th>Recall</th>\n",
       "      <th>F1</th>\n",
       "      <th>FPR</th>\n",
       "      <th>FNR</th>\n",
       "      <th>Dataset</th>\n",
       "    </tr>\n",
       "  </thead>\n",
       "  <tbody>\n",
       "    <tr>\n",
       "      <th>0</th>\n",
       "      <td>RandomForest-SQL</td>\n",
       "      <td>0.26</td>\n",
       "      <td>0.996889</td>\n",
       "      <td>0.989413</td>\n",
       "      <td>0.993137</td>\n",
       "      <td>0.001794</td>\n",
       "      <td>0.010587</td>\n",
       "      <td>SQL</td>\n",
       "    </tr>\n",
       "    <tr>\n",
       "      <th>1</th>\n",
       "      <td>MLP-SQL</td>\n",
       "      <td>0.16</td>\n",
       "      <td>0.997775</td>\n",
       "      <td>0.988972</td>\n",
       "      <td>0.993354</td>\n",
       "      <td>0.001281</td>\n",
       "      <td>0.011028</td>\n",
       "      <td>SQL</td>\n",
       "    </tr>\n",
       "    <tr>\n",
       "      <th>2</th>\n",
       "      <td>XGBoost-SQL</td>\n",
       "      <td>0.31</td>\n",
       "      <td>0.626961</td>\n",
       "      <td>0.951919</td>\n",
       "      <td>0.755999</td>\n",
       "      <td>0.329062</td>\n",
       "      <td>0.048081</td>\n",
       "      <td>SQL</td>\n",
       "    </tr>\n",
       "    <tr>\n",
       "      <th>3</th>\n",
       "      <td>CatBoost-SQL</td>\n",
       "      <td>0.32</td>\n",
       "      <td>0.997329</td>\n",
       "      <td>0.988090</td>\n",
       "      <td>0.992688</td>\n",
       "      <td>0.001538</td>\n",
       "      <td>0.011910</td>\n",
       "      <td>SQL</td>\n",
       "    </tr>\n",
       "    <tr>\n",
       "      <th>4</th>\n",
       "      <td>RandomForest-XSS</td>\n",
       "      <td>0.44</td>\n",
       "      <td>0.999319</td>\n",
       "      <td>0.994576</td>\n",
       "      <td>0.996942</td>\n",
       "      <td>0.000792</td>\n",
       "      <td>0.005424</td>\n",
       "      <td>XSS</td>\n",
       "    </tr>\n",
       "    <tr>\n",
       "      <th>5</th>\n",
       "      <td>MLP-XSS</td>\n",
       "      <td>0.29</td>\n",
       "      <td>0.997963</td>\n",
       "      <td>0.996610</td>\n",
       "      <td>0.997286</td>\n",
       "      <td>0.002375</td>\n",
       "      <td>0.003390</td>\n",
       "      <td>XSS</td>\n",
       "    </tr>\n",
       "    <tr>\n",
       "      <th>6</th>\n",
       "      <td>XGBoost-XSS</td>\n",
       "      <td>0.90</td>\n",
       "      <td>0.978364</td>\n",
       "      <td>0.981017</td>\n",
       "      <td>0.979689</td>\n",
       "      <td>0.025337</td>\n",
       "      <td>0.018983</td>\n",
       "      <td>XSS</td>\n",
       "    </tr>\n",
       "    <tr>\n",
       "      <th>7</th>\n",
       "      <td>CatBoost-XSS</td>\n",
       "      <td>0.21</td>\n",
       "      <td>1.000000</td>\n",
       "      <td>0.997966</td>\n",
       "      <td>0.998982</td>\n",
       "      <td>0.000000</td>\n",
       "      <td>0.002034</td>\n",
       "      <td>XSS</td>\n",
       "    </tr>\n",
       "  </tbody>\n",
       "</table>\n",
       "</div>"
      ],
      "text/plain": [
       "              Model   Thr  Precision    Recall        F1       FPR       FNR  \\\n",
       "0  RandomForest-SQL  0.26   0.996889  0.989413  0.993137  0.001794  0.010587   \n",
       "1           MLP-SQL  0.16   0.997775  0.988972  0.993354  0.001281  0.011028   \n",
       "2       XGBoost-SQL  0.31   0.626961  0.951919  0.755999  0.329062  0.048081   \n",
       "3      CatBoost-SQL  0.32   0.997329  0.988090  0.992688  0.001538  0.011910   \n",
       "4  RandomForest-XSS  0.44   0.999319  0.994576  0.996942  0.000792  0.005424   \n",
       "5           MLP-XSS  0.29   0.997963  0.996610  0.997286  0.002375  0.003390   \n",
       "6       XGBoost-XSS  0.90   0.978364  0.981017  0.979689  0.025337  0.018983   \n",
       "7      CatBoost-XSS  0.21   1.000000  0.997966  0.998982  0.000000  0.002034   \n",
       "\n",
       "  Dataset  \n",
       "0     SQL  \n",
       "1     SQL  \n",
       "2     SQL  \n",
       "3     SQL  \n",
       "4     XSS  \n",
       "5     XSS  \n",
       "6     XSS  \n",
       "7     XSS  "
      ]
     },
     "metadata": {},
     "output_type": "display_data"
    },
    {
     "name": "stdout",
     "output_type": "stream",
     "text": [
      "Ergebnisse gespeichert unter: reports\\results_tuning_20250821-213023.xlsx\n"
     ]
    }
   ],
   "source": [
    "from datetime import datetime\n",
    "from pathlib import Path\n",
    "import pandas as pd\n",
    "\n",
    "# Combine results and tag with dataset names\n",
    "sql_res[\"Dataset\"] = \"SQL\"\n",
    "xss_res[\"Dataset\"] = \"XSS\"\n",
    "\n",
    "df_all = pd.concat([sql_res, xss_res], ignore_index=True)\n",
    "\n",
    "# Anzeigen\n",
    "display(df_all)\n",
    "\n",
    "# Export to Excel\n",
    "outdir = Path(\"reports\"); outdir.mkdir(parents=True, exist_ok=True)\n",
    "ts = datetime.now().strftime(\"%Y%m%d-%H%M%S\")\n",
    "xlsx_path = outdir / f\"results_tuning_{ts}.xlsx\"\n",
    "\n",
    "with pd.ExcelWriter(xlsx_path, engine=\"xlsxwriter\") as writer:\n",
    "    df_all.to_excel(writer, sheet_name=\"Tuning Results\", index=False)\n",
    "\n",
    "print(\"Ergebnisse gespeichert unter:\", xlsx_path)"
   ]
  }
 ],
 "metadata": {
  "kernelspec": {
   "display_name": ".venv",
   "language": "python",
   "name": "python3"
  },
  "language_info": {
   "codemirror_mode": {
    "name": "ipython",
    "version": 3
   },
   "file_extension": ".py",
   "mimetype": "text/x-python",
   "name": "python",
   "nbconvert_exporter": "python",
   "pygments_lexer": "ipython3",
   "version": "3.11.9"
  }
 },
 "nbformat": 4,
 "nbformat_minor": 5
}
